{
  "nbformat": 4,
  "nbformat_minor": 0,
  "metadata": {
    "kernelspec": {
      "display_name": "Python 3",
      "language": "python",
      "name": "python3"
    },
    "language_info": {
      "codemirror_mode": {
        "name": "ipython",
        "version": 3
      },
      "file_extension": ".py",
      "mimetype": "text/x-python",
      "name": "python",
      "nbconvert_exporter": "python",
      "pygments_lexer": "ipython3",
      "version": "3.7.3"
    },
    "toc": {
      "base_numbering": 1,
      "nav_menu": {},
      "number_sections": true,
      "sideBar": true,
      "skip_h1_title": false,
      "title_cell": "Table of Contents",
      "title_sidebar": "Contents",
      "toc_cell": false,
      "toc_position": {},
      "toc_section_display": true,
      "toc_window_display": false
    },
    "varInspector": {
      "cols": {
        "lenName": 16,
        "lenType": 16,
        "lenVar": 40
      },
      "kernels_config": {
        "python": {
          "delete_cmd_postfix": "",
          "delete_cmd_prefix": "del ",
          "library": "var_list.py",
          "varRefreshCmd": "print(var_dic_list())"
        },
        "r": {
          "delete_cmd_postfix": ") ",
          "delete_cmd_prefix": "rm(",
          "library": "var_list.r",
          "varRefreshCmd": "cat(var_dic_list()) "
        }
      },
      "types_to_exclude": [
        "module",
        "function",
        "builtin_function_or_method",
        "instance",
        "_Feature"
      ],
      "window_display": false
    },
    "colab": {
      "name": "Copy of Exercices_Support_Vector_Machines.ipynb",
      "provenance": [],
      "collapsed_sections": [],
      "include_colab_link": true
    }
  },
  "cells": [
    {
      "cell_type": "markdown",
      "metadata": {
        "id": "view-in-github",
        "colab_type": "text"
      },
      "source": [
        "<a href=\"https://colab.research.google.com/github/easypanda/Handson-ML2/blob/master/Chapter%205%3A%20Support%20Vector%20Machines/Exercices_Support_Vector_Machines.ipynb\" target=\"_parent\"><img src=\"https://colab.research.google.com/assets/colab-badge.svg\" alt=\"Open In Colab\"/></a>"
      ]
    },
    {
      "cell_type": "markdown",
      "metadata": {
        "id": "H3QXuSAQZvIV",
        "colab_type": "text"
      },
      "source": [
        "# What is the fundamental idea behind Support Vector Machines?"
      ]
    },
    {
      "cell_type": "markdown",
      "metadata": {
        "id": "8_8_9J-XZ7pV",
        "colab_type": "text"
      },
      "source": [
        "The fundamental idea behind Support Vector Machines (SVM) is to draw the widest possible street between classes by creating a separating hyperplane between them. This is called **Large Margin Classification**."
      ]
    },
    {
      "cell_type": "markdown",
      "metadata": {
        "id": "cyw0badNZvIZ",
        "colab_type": "text"
      },
      "source": [
        "# What is a support vector?"
      ]
    },
    {
      "cell_type": "markdown",
      "metadata": {
        "id": "O8_gBkGMayOC",
        "colab_type": "text"
      },
      "source": [
        "A support vector is an instance that define where the boundaries of the street,  its edges, stand."
      ]
    },
    {
      "cell_type": "markdown",
      "metadata": {
        "id": "UJJuPwBmZvIc",
        "colab_type": "text"
      },
      "source": [
        "# Why is it important to scale the inputs when using SVMs?"
      ]
    },
    {
      "cell_type": "markdown",
      "metadata": {
        "id": "T5COsYLrbgOs",
        "colab_type": "text"
      },
      "source": [
        "It is important to scale the inputs when using SVM because SVMs are sensitive to it and it might change the shape of the widest street possible."
      ]
    },
    {
      "cell_type": "markdown",
      "metadata": {
        "id": "9LiOAjOzZvIe",
        "colab_type": "text"
      },
      "source": [
        "# Can an SVM classifier output a confidence score when it classifies an instance? What about a probability?"
      ]
    },
    {
      "cell_type": "markdown",
      "metadata": {
        "id": "TKeg1bllehAD",
        "colab_type": "text"
      },
      "source": [
        "An SVM classifier does not ouput a confidence score nor a probability class."
      ]
    },
    {
      "cell_type": "markdown",
      "metadata": {
        "id": "xLeV6ILWZvIg",
        "colab_type": "text"
      },
      "source": [
        "# Should you use the primal or the dual form of the SVM problem to train a model on a training set with millions of instances and hundreds of features?"
      ]
    },
    {
      "cell_type": "markdown",
      "metadata": {
        "id": "Gun32qEnZ2uB",
        "colab_type": "text"
      },
      "source": [
        "We should use the dual form of the SVM as it is computationally more efficient and allows for the kernel trick."
      ]
    },
    {
      "cell_type": "markdown",
      "metadata": {
        "id": "kDpcMZVHZvIk",
        "colab_type": "text"
      },
      "source": [
        "# Say you trained an SVM classifier with an RBF kernel. It seems to underfit the training set: should you increase or decrease γ (gamma)? What about C?"
      ]
    },
    {
      "cell_type": "markdown",
      "metadata": {
        "id": "GZfMOLrff2IB",
        "colab_type": "text"
      },
      "source": [
        "In case of underfitting:\n",
        "* We can increase Y (Gamma).\n",
        "* We can increace C.\n",
        "\n",
        "In case of overfitting:\n",
        "* We can decrease Y (Gamma).\n",
        "* We can decrease C.\n",
        "\n",
        "The hyperparameter Y (Gamma) will change the shape of the bell-shaped curve ( in case of Gaussian RBF). A large Y makes the decision boundaries more irregular, wiggling around individual instances whereas a small Y will make the decision boundaries more smooth by making the bell-shaped curve wider.\n",
        "C is the hyperparameter which controls the number of instance that are not in the good side of the margin (margin violation). The higher it is, the lesser margin violation we have."
      ]
    },
    {
      "cell_type": "markdown",
      "metadata": {
        "id": "9CdViuIWZvIl",
        "colab_type": "text"
      },
      "source": [
        "# How should you set the QP parameters (H, f, A, and b) to solve the soft margin linear SVM classifier problem using an off-the-shelf QP solver?"
      ]
    },
    {
      "cell_type": "markdown",
      "metadata": {
        "id": "YAHnr-8vjRnO",
        "colab_type": "text"
      },
      "source": [
        ""
      ]
    },
    {
      "cell_type": "markdown",
      "metadata": {
        "id": "hVLKLY9xZvIn",
        "colab_type": "text"
      },
      "source": [
        "# Train a LinearSVC on a linearly separable dataset. Then train an SVC and a SGDClassifier on the same dataset. See if you can get them to produce roughly the same model."
      ]
    },
    {
      "cell_type": "code",
      "metadata": {
        "id": "7lZG-FGjjTO8",
        "colab_type": "code",
        "colab": {}
      },
      "source": [
        "import numpy as np\n",
        "from sklearn import datasets\n",
        "from sklearn.pipeline import Pipeline\n",
        "from sklearn.preprocessing import StandardScaler\n",
        "from sklearn.svm import LinearSVC"
      ],
      "execution_count": 0,
      "outputs": []
    },
    {
      "cell_type": "code",
      "metadata": {
        "id": "5WW7HZ7nmLQC",
        "colab_type": "code",
        "colab": {}
      },
      "source": [
        ""
      ],
      "execution_count": 0,
      "outputs": []
    },
    {
      "cell_type": "code",
      "metadata": {
        "id": "itYG1rwAmLE8",
        "colab_type": "code",
        "colab": {}
      },
      "source": [
        ""
      ],
      "execution_count": 0,
      "outputs": []
    },
    {
      "cell_type": "code",
      "metadata": {
        "id": "boIDtC_XmK7z",
        "colab_type": "code",
        "colab": {}
      },
      "source": [
        ""
      ],
      "execution_count": 0,
      "outputs": []
    },
    {
      "cell_type": "markdown",
      "metadata": {
        "id": "UCKiuZN1ZvIq",
        "colab_type": "text"
      },
      "source": [
        "# Train an SVM classifier on the MNIST dataset. Since SVM classifiers are binary classifiers, you will need to use one-versus-all to classify all 10 digits. You may want to tune the hyperparameters using small validation sets to speed up the process. What accuracy can you reach?"
      ]
    },
    {
      "cell_type": "code",
      "metadata": {
        "id": "F2RVPR-NjUWV",
        "colab_type": "code",
        "colab": {}
      },
      "source": [
        ""
      ],
      "execution_count": 0,
      "outputs": []
    },
    {
      "cell_type": "markdown",
      "metadata": {
        "id": "tOELuVwyZvIr",
        "colab_type": "text"
      },
      "source": [
        "# Train an SVM regressor on the California housing dataset."
      ]
    },
    {
      "cell_type": "code",
      "metadata": {
        "id": "_UtMX2lyjVmp",
        "colab_type": "code",
        "colab": {}
      },
      "source": [
        ""
      ],
      "execution_count": 0,
      "outputs": []
    }
  ]
}