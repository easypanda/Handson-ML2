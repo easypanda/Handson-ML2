{
 "cells": [
  {
   "cell_type": "markdown",
   "metadata": {},
   "source": [
    "# The Machine learnin Landscape"
   ]
  },
  {
   "cell_type": "markdown",
   "metadata": {},
   "source": [
    "## 1. How would you define Machine Learning?"
   ]
  },
  {
   "cell_type": "markdown",
   "metadata": {},
   "source": [
    "Machine Learning is the ***Science and art of programming computers so they can learn from data***.\n",
    "\n",
    "*Machine Learning is the field of study that gives computers the ability to learn without being explicitly programmed.* (Arthur Samuel, 1959)\n",
    "\n",
    "*A computer program is said to learn from experience E with respect to some task T and some performance measure P. If its performance on T, as measure by P, improves with experience E.* (Tom Mitchell,1997)"
   ]
  },
  {
   "cell_type": "markdown",
   "metadata": {},
   "source": [
    "## 2. Can you name four types of problems where it shines?"
   ]
  },
  {
   "cell_type": "markdown",
   "metadata": {},
   "source": [
    "1. Where solving a problem is difficult by using a traditional program that will become a long list of complex rules (pretty hard to maintain), a machine learning algorithm will automatically learns to patterns to solve the problem and will be shorte, easier to maintain and most likely more accurate like a Spam filter. In other words, problems for which existing solutions require a lot of fine-tuning or long lists of rules: One Machine Learning algorithm can often simplify code and perform better than the traditional approach.\n",
    "\n",
    "\n",
    "2. For problems that either are too complex for traditional approaches or have no known algorithm like Speech Recognition. In other words, complex problems for which using a traditional approach yields no good solution: the best Machine Learning techniques can perhaps find a solution.\n",
    "\n",
    "\n",
    "3. Fluctuating environments: a Machine Learning system can adapt to new data.\n",
    "\n",
    "\n",
    "4. Getting insights about complex problems and large amounts of data."
   ]
  },
  {
   "cell_type": "markdown",
   "metadata": {},
   "source": [
    "## 3. What is a labeled training set?"
   ]
  },
  {
   "cell_type": "markdown",
   "metadata": {},
   "source": [
    "A labeled training set is a dataset which contains many example of an observation (like emails) along with their class (like spam or not spam). This dataset will be used by the machine learning algorithm to learn the patterns of the classes and make prediction."
   ]
  },
  {
   "cell_type": "markdown",
   "metadata": {},
   "source": [
    "## 4. What are the two most common supervised tasks?"
   ]
  },
  {
   "cell_type": "markdown",
   "metadata": {},
   "source": [
    "The first one is : ***Classification***.\n",
    "\n",
    "\n",
    "The second one is : ***Regression***.\n",
    "\n",
    "The first one is related to the prediction of the class where belongs the object (ex: the spam filter that will classify a new email as a spam or ham) whereas the second one is to predict a *target*, a numerical value (ex: the price of a car, of a house,etc.)"
   ]
  },
  {
   "cell_type": "markdown",
   "metadata": {},
   "source": [
    "## 5. Can you name four common unsupervised tasks?"
   ]
  },
  {
   "cell_type": "markdown",
   "metadata": {},
   "source": [
    "1. Clustering (K-Means, DBSCAN, Hierarchical Cluster Analysis (HCA))\n",
    "\n",
    "\n",
    "2. Anomaly Detection and novelty detection (One-Class SVM, Isolation Forest)\n",
    "\n",
    "\n",
    "3. Visualization and dimensionality reduction (Principal Component Analysis (PCA), Kernel PCA, Locally Linear Embedding (LLE), t-Distributed Stochastic Neighbor Embedding (t-SNE))\n",
    "\n",
    "\n",
    "4. Association rule learning (Apriori, Eclat)"
   ]
  },
  {
   "cell_type": "markdown",
   "metadata": {},
   "source": [
    "## 6. What type of Machine Learning algorithm would you use to allow a robot to walk in various unknown terrains?"
   ]
  },
  {
   "cell_type": "markdown",
   "metadata": {},
   "source": [
    "I would use a reinforcement Learning algorithm, where the robot will be an *agent* in this context, and will get rewards or penalties by selecting and performing actions. It must learn by itself what is the best strategy, called a *policy*, to get the most reward over time. A *policy* defines what action the gaent should choose when it is in a given situation, which in our case, the various unknown terrains."
   ]
  },
  {
   "cell_type": "markdown",
   "metadata": {},
   "source": [
    "## 7. What type of algorithm would you use to segment your customers into multiple groups?"
   ]
  },
  {
   "cell_type": "markdown",
   "metadata": {},
   "source": [
    "To segment my custoners into multiple groups, I would choose a clustering algorithm like a K-Means or a DBSCAN or a visualization algorithm like t-SNE."
   ]
  },
  {
   "cell_type": "markdown",
   "metadata": {},
   "source": [
    "## 8. Would you frame the problem of spam detection as a supervised learning problem or an unsupervised learning problem?"
   ]
  },
  {
   "cell_type": "markdown",
   "metadata": {},
   "source": [
    "I'd frame the spam detection problem as a supervised learning problem, and most particulary a classification problem, where we can feed an algorithm with labeled data to learn the patterns of the two classes (spam or ham) and classify the new emails."
   ]
  },
  {
   "cell_type": "markdown",
   "metadata": {},
   "source": [
    "## 9. What is an online learning system?"
   ]
  },
  {
   "cell_type": "markdown",
   "metadata": {},
   "source": [
    "An online learning system is a system where you train the system incrementally by feeding it data instances sequetially, either individually or in small groups called mini-batches. Each learning step is fast and cheap, so the system can learn about new data on the fly, as it arrives."
   ]
  },
  {
   "cell_type": "markdown",
   "metadata": {},
   "source": [
    "## 10. What is out-of-core learning?"
   ]
  },
  {
   "cell_type": "markdown",
   "metadata": {},
   "source": [
    "Out-of-core learning is based on online learning systems. It is used to train systems on huge datasets that cannot fit in one machine's main memory. The algorithm loads part of the data, runs a training step on that data, and repeats the process until it has run on all of the data. It is usually done offline (not on the live system), so online learning can be also refered to incremental learning."
   ]
  },
  {
   "cell_type": "markdown",
   "metadata": {},
   "source": [
    "## 11. What type of learning algorithm relies on a similarity measure to make predictions?"
   ]
  },
  {
   "cell_type": "markdown",
   "metadata": {},
   "source": [
    "Instance-Based algorithm relies on similarity measure to make predictions. This requiresmeasure of similarity between the predictions. As an example, for our spam detector, a measure of similarity between two emails would be to count the number of words they have in common. In instance-based algorithm, the system learns by heart, then generalizes to new cases by using a similarity measure to compare them to the learned examples (or a subset of them)."
   ]
  },
  {
   "cell_type": "markdown",
   "metadata": {},
   "source": [
    "## 12. What is the difference between a model parameter and a learning algorithm’s hyperparameter?"
   ]
  },
  {
   "cell_type": "markdown",
   "metadata": {},
   "source": [
    "A model parameter is a parameter that is learned by the model by optimizating a *utility function (or fitness function)* that measure how good your model is or by optimizating a *cost function* to measure how bad it is. An example of model parameters will be weights and bias.\n",
    "\n",
    "A hyperparameter is a parameter that we will pass to an algorithm and that cannot be measure by a cost function or a utility function (like a Learning Rate for instance)."
   ]
  },
  {
   "cell_type": "markdown",
   "metadata": {},
   "source": [
    "## 13. What do model-based learning algorithms search for? What is the most common strategy they use to succeed? How do they make predictions?"
   ]
  },
  {
   "cell_type": "markdown",
   "metadata": {},
   "source": [
    "A model-based algorithm will make prediction by building a model from examples and use that model to make prediction out of it. "
   ]
  },
  {
   "cell_type": "markdown",
   "metadata": {},
   "source": [
    "## 14. Can you name four of the main challenges in Machine Learning?"
   ]
  },
  {
   "cell_type": "markdown",
   "metadata": {},
   "source": [
    "1. **Insufficient quantity of training Data**. Even for very simple problems, you typically need thousands of examples,and for complex problems such as image or speech recognition you may need millions of examples (unless you can do transfer learning).\n",
    "\n",
    "\n",
    "2. **Nonrepresentative Training Data**. In order to generalize well, it is crucial that your training data be representative of the new cases you want to generalize to. This is true whether you use instance-based learning or model-based learning. By using a nonrepresentative training set, we trained a model that is unlikely to make accurate predictions, especially for very poor and very rich countries.\n",
    "\n",
    "\n",
    "3. **Poor Quality Data** Obviously if you training data is full of errors, outliers and noise, it will make it harder for the system to detect the underlying patterns so your system is less likely to perfom well.\n",
    "\n",
    "\n",
    "4. **Irrelevant Features** Garbage in, garbage out. Your system will only be capable of learning if the training data contains enough relevant features and not too many irrelevant ones."
   ]
  },
  {
   "cell_type": "markdown",
   "metadata": {},
   "source": [
    "## 15. If your model performs great on the training data but generalizes poorly to new |instances, what is happening? Can you name three possible solutions?"
   ]
  },
  {
   "cell_type": "markdown",
   "metadata": {},
   "source": [
    "Is it high likely that the model is overfitting.\n",
    "\n",
    "The three possible solutions are:\n",
    "    1. Simplifying the model by selecting one with fewer parameters (e.g. a linear regression instead of a high-degree polynomial model), by reducing the number of attributes in the training data, or by constraining the model.\n",
    "    2. Gather more training data.\n",
    "    3. Reduce the noise in the training data( e.g. fix data errors and remove outliers)."
   ]
  },
  {
   "cell_type": "markdown",
   "metadata": {},
   "source": [
    "## 16. What is a test set and why would you want to use it?"
   ]
  },
  {
   "cell_type": "markdown",
   "metadata": {},
   "source": [
    "A test set is a part of the dataset that has been splitted in two (with the other part being the training set) where we can try wether the algorithm generalized well or not. The error rate on the test set is called *generalization error* (or *out-of-sample error*).\n",
    "\n",
    "We would want to use it to ensure that our algorithm is capable of generalized on unseen data, without overfitting ( model too complex) or underfitting( model too simple)."
   ]
  },
  {
   "cell_type": "markdown",
   "metadata": {},
   "source": [
    "## 17. What is the purpose of a validation set?"
   ]
  },
  {
   "cell_type": "markdown",
   "metadata": {},
   "source": [
    "The purpose of the validation set is to select the evaluate several candidate modes and select the best one. It is also called the ***Holdout validation***.\n",
    "\n",
    "It is used to test multiple trained models with various hyperparameters on the reduced training set (because it has been splitted to create the validation set). After that, we just have to choose the best model and we can train it on the full training set to get the final model."
   ]
  },
  {
   "cell_type": "markdown",
   "metadata": {},
   "source": [
    "## 18. What can go wrong if you tune hyperparameters using the test set?"
   ]
  },
  {
   "cell_type": "markdown",
   "metadata": {},
   "source": [
    "We can optimized the model by tuning the hyperparameters but only for the test set and the model wouldn't be able to generalize and perform well on unseen data."
   ]
  },
  {
   "cell_type": "markdown",
   "metadata": {},
   "source": [
    "## 19. What is cross-validation and why would you prefer it to a validation set?"
   ]
  },
  {
   "cell_type": "markdown",
   "metadata": {},
   "source": [
    "Cross-validation uses many small validation sets to ensure the quality of the model. Each model is evaludated once per validation set after it is trained on the rest of the data. By averaging out all of the evaluations of a model, we get a much more accurate measure of its performance. The drawback however is that the training time is multiplied by the number of validation sets."
   ]
  }
 ],
 "metadata": {
  "kernelspec": {
   "display_name": "Python 3",
   "language": "python",
   "name": "python3"
  },
  "language_info": {
   "codemirror_mode": {
    "name": "ipython",
    "version": 3
   },
   "file_extension": ".py",
   "mimetype": "text/x-python",
   "name": "python",
   "nbconvert_exporter": "python",
   "pygments_lexer": "ipython3",
   "version": "3.7.5"
  },
  "toc": {
   "base_numbering": 1,
   "nav_menu": {},
   "number_sections": true,
   "sideBar": true,
   "skip_h1_title": false,
   "title_cell": "Table of Contents",
   "title_sidebar": "Contents",
   "toc_cell": false,
   "toc_position": {},
   "toc_section_display": true,
   "toc_window_display": false
  },
  "varInspector": {
   "cols": {
    "lenName": 16,
    "lenType": 16,
    "lenVar": 40
   },
   "kernels_config": {
    "python": {
     "delete_cmd_postfix": "",
     "delete_cmd_prefix": "del ",
     "library": "var_list.py",
     "varRefreshCmd": "print(var_dic_list())"
    },
    "r": {
     "delete_cmd_postfix": ") ",
     "delete_cmd_prefix": "rm(",
     "library": "var_list.r",
     "varRefreshCmd": "cat(var_dic_list()) "
    }
   },
   "types_to_exclude": [
    "module",
    "function",
    "builtin_function_or_method",
    "instance",
    "_Feature"
   ],
   "window_display": false
  }
 },
 "nbformat": 4,
 "nbformat_minor": 2
}
