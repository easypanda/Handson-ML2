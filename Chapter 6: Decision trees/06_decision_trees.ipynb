{
 "cells": [
  {
   "cell_type": "markdown",
   "metadata": {},
   "source": [
    "1. What is the approximate depth of a Decision Tree trained (without restrictions)\n",
    "on a training set with 1 million instances?\n",
    "2. Is a node’s Gini impurity generally lower or greater than its parent’s? Is it gener‐\n",
    "ally lower/greater, or always lower/greater?\n",
    "3. If a Decision Tree is overfitting the training set, is it a good idea to try decreasing\n",
    "max_depth?\n",
    "4. If a Decision Tree is underfitting the training set, is it a good idea to try scaling\n",
    "the input features?\n",
    "5. If it takes one hour to train a Decision Tree on a training set containing 1 million\n",
    "instances, roughly how much time will it take to train another Decision Tree on a\n",
    "training set containing 10 million instances?\n",
    "6. If your training set contains 100,000 instances, will setting presort=True speed\n",
    "up training?\n",
    "7. Train and fine-tune a Decision Tree for the moons dataset.\n",
    "a. Generate a moons dataset using make_moons(n_samples=10000, noise=0.4).\n",
    "b. Split it into a training set and a test set using train_test_split().\n",
    "178 | Chapter 6: Decision Trees\n",
    "Download from finelybook www.finelybook.com\n",
    "c. Use grid search with cross-validation (with the help of the GridSearchCV\n",
    "class) to find good hyperparameter values for a DecisionTreeClassifier.\n",
    "Hint: try various values for max_leaf_nodes.\n",
    "d. Train it on the full training set using these hyperparameters, and measure\n",
    "your model’s performance on the test set. You should get roughly 85% to 87%\n",
    "accuracy.\n",
    "8. Grow a forest.\n",
    "a. Continuing the previous exercise, generate 1,000 subsets of the training set,\n",
    "each containing 100 instances selected randomly. Hint: you can use ScikitLearn’s ShuffleSplit class for this.\n",
    "b. Train one Decision Tree on each subset, using the best hyperparameter values\n",
    "found above. Evaluate these 1,000 Decision Trees on the test set. Since they\n",
    "were trained on smaller sets, these Decision Trees will likely perform worse\n",
    "than the first Decision Tree, achieving only about 80% accuracy.\n",
    "c. Now comes the magic. For each test set instance, generate the predictions of\n",
    "the 1,000 Decision Trees, and keep only the most frequent prediction (you can\n",
    "use SciPy’s mode() function for this). This gives you majority-vote predictions\n",
    "over the test set.\n",
    "d. Evaluate these predictions on the test set: you should obtain a slightly higher\n",
    "accuracy than your first model (about 0.5 to 1.5% higher). Congratulations,\n",
    "you have trained a Random Forest classifier!\n",
    "Solutions to these exercises are available in Appendix A."
   ]
  }
 ],
 "metadata": {
  "kernelspec": {
   "display_name": "Python 3",
   "language": "python",
   "name": "python3"
  },
  "language_info": {
   "codemirror_mode": {
    "name": "ipython",
    "version": 3
   },
   "file_extension": ".py",
   "mimetype": "text/x-python",
   "name": "python",
   "nbconvert_exporter": "python",
   "pygments_lexer": "ipython3",
   "version": "3.7.4"
  },
  "toc": {
   "base_numbering": 1,
   "nav_menu": {},
   "number_sections": true,
   "sideBar": true,
   "skip_h1_title": false,
   "title_cell": "Table of Contents",
   "title_sidebar": "Contents",
   "toc_cell": false,
   "toc_position": {},
   "toc_section_display": true,
   "toc_window_display": false
  },
  "varInspector": {
   "cols": {
    "lenName": 16,
    "lenType": 16,
    "lenVar": 40
   },
   "kernels_config": {
    "python": {
     "delete_cmd_postfix": "",
     "delete_cmd_prefix": "del ",
     "library": "var_list.py",
     "varRefreshCmd": "print(var_dic_list())"
    },
    "r": {
     "delete_cmd_postfix": ") ",
     "delete_cmd_prefix": "rm(",
     "library": "var_list.r",
     "varRefreshCmd": "cat(var_dic_list()) "
    }
   },
   "types_to_exclude": [
    "module",
    "function",
    "builtin_function_or_method",
    "instance",
    "_Feature"
   ],
   "window_display": false
  }
 },
 "nbformat": 4,
 "nbformat_minor": 2
}
