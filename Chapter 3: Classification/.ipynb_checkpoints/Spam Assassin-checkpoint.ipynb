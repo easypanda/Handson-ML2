{
 "cells": [
  {
   "cell_type": "markdown",
   "metadata": {},
   "source": [
    "## Build a spam classifier (a more challenging exercise)\n",
    "• Download examples of spam and ham from Apache SpamAssassin’s public\n",
    "datasets.\n",
    "\n",
    "• Unzip the datasets and familiarize yourself with the data format.\n",
    "\n",
    "• Split the datasets into a training set and a test set.\n",
    "\n",
    "• Write a data preparation pipeline to convert each email into a feature vector.\n",
    "\n",
    "Your preparation pipeline should transform an email into a (sparse) vector\n",
    "indicating the presence or absence of each possible word. For example, if all\n",
    "emails only ever contain four words, “Hello,” “how,” “are,” “you,” then the email\n",
    "“Hello you Hello Hello you” would be converted into a vector [1, 0, 0, 1]\n",
    "(meaning [“Hello” is present, “how” is absent, “are” is absent, “you” is\n",
    "present]), or [3, 0, 0, 2] if you prefer to count the number of occurrences of\n",
    "each word.\n",
    "\n",
    "• You may want to add hyperparameters to your preparation pipeline to control\n",
    "whether or not to strip off email headers, convert each email to lowercase,\n",
    "remove punctuation, replace all URLs with “URL,” replace all numbers with\n",
    "“NUMBER,” or even perform stemming (i.e., trim off word endings; there are\n",
    "Python libraries available to do this).\n",
    "\n",
    "• Then try out several classifiers and see if you can build a great spam classifier,\n",
    "with both high recall and high precision."
   ]
  },
  {
   "cell_type": "code",
   "execution_count": 1,
   "metadata": {},
   "outputs": [],
   "source": [
    "import numpy as np\n",
    "import pandas as pd\n",
    "\n",
    "import matplotlib.pyplot as plt\n",
    "import seaborn as sns\n",
    "sns.set_style(\"whitegrid\")\n",
    "\n",
    "%matplotlib inline"
   ]
  },
  {
   "cell_type": "code",
   "execution_count": 2,
   "metadata": {},
   "outputs": [],
   "source": [
    "import os\n",
    "import re\n",
    "from pathlib import Path"
   ]
  },
  {
   "cell_type": "code",
   "execution_count": 3,
   "metadata": {},
   "outputs": [],
   "source": [
    "from nltk.corpus import stopwords\n",
    "from nltk.stem import PorterStemmer\n",
    "from nltk.tokenize import sent_tokenize, word_tokenize\n",
    "from sklearn.feature_extraction.text import CountVectorizer\n",
    "from nltk.tokenize import RegexpTokenizer\n",
    "from nltk.stem.wordnet import WordNetLemmatizer"
   ]
  },
  {
   "cell_type": "code",
   "execution_count": 4,
   "metadata": {},
   "outputs": [],
   "source": [
    "from sklearn.model_selection import StratifiedKFold, train_test_split, StratifiedShuffleSplit\n",
    "from sklearn.pipeline import Pipeline\n",
    "from sklearn.preprocessing import base\n",
    "from sklearn.feature_extraction.text import CountVectorizer\n",
    "from sklearn.feature_extraction.text import TfidfVectorizer"
   ]
  },
  {
   "cell_type": "code",
   "execution_count": 5,
   "metadata": {},
   "outputs": [],
   "source": [
    "from sklearn.ensemble import RandomForestClassifier"
   ]
  },
  {
   "cell_type": "code",
   "execution_count": 6,
   "metadata": {},
   "outputs": [],
   "source": [
    "easy_ham = Path(\"./AssassinSpam/easy_ham\")\n",
    "easy_ham_2 = Path(\"./AssassinSpam/easy_ham_2\")\n",
    "hard_ham = Path(\"./AssassinSpam/hard_ham\")\n",
    "spam = Path(\"./AssassinSpam/spam\")\n",
    "spam_2 = Path(\"./AssassinSpam/spam_2\")"
   ]
  },
  {
   "cell_type": "code",
   "execution_count": 7,
   "metadata": {},
   "outputs": [],
   "source": [
    "def creating_df(path):\n",
    "    \n",
    "    list_emails = []\n",
    "    \n",
    "    for files in os.listdir(path):\n",
    "        \n",
    "        file = open(path/files,\"r\",encoding=\"latin-1\")\n",
    "        \n",
    "        list_emails.append(file.read())\n",
    "        \n",
    "        file.close()\n",
    "        \n",
    "    df = pd.DataFrame(list_emails,columns=[\"emails\"])    \n",
    "    \n",
    "    if \"ham\" in path.name:\n",
    "        df[\"spam_ham\"] = \"ham\"\n",
    "    else:\n",
    "        df[\"spam_ham\"] = \"spam\"\n",
    "    \n",
    "    return df"
   ]
  },
  {
   "cell_type": "code",
   "execution_count": 8,
   "metadata": {
    "scrolled": true
   },
   "outputs": [],
   "source": [
    "df_spam = creating_df(spam)\n",
    "df_spam_2 = creating_df(spam_2)\n",
    "df_hard_ham = creating_df(hard_ham)\n",
    "df_easy_ham = creating_df(easy_ham)\n",
    "df_easy_ham_2 = creating_df(easy_ham_2)"
   ]
  },
  {
   "cell_type": "code",
   "execution_count": 9,
   "metadata": {
    "scrolled": true
   },
   "outputs": [],
   "source": [
    "df = pd.concat([df_spam_2,df_spam],sort=False)\n",
    "df = pd.concat([df,df_hard_ham],sort=False)\n",
    "df = pd.concat([df,df_easy_ham_2],sort=False)\n",
    "df = pd.concat([df,df_easy_ham],sort=False)"
   ]
  },
  {
   "cell_type": "code",
   "execution_count": 10,
   "metadata": {
    "scrolled": false
   },
   "outputs": [
    {
     "name": "stdout",
     "output_type": "stream",
     "text": [
      "ham     69.0\n",
      "spam    31.0\n",
      "Name: spam_ham, dtype: float64\n"
     ]
    },
    {
     "data": {
      "text/plain": [
       "<matplotlib.axes._subplots.AxesSubplot at 0x7f2287f83f60>"
      ]
     },
     "execution_count": 10,
     "metadata": {},
     "output_type": "execute_result"
    },
    {
     "data": {
      "image/png": "[encoded data removed]",
      "text/plain": [
       "<Figure size 432x288 with 1 Axes>"
      ]
     },
     "metadata": {
      "needs_background": "light"
     },
     "output_type": "display_data"
    }
   ],
   "source": [
    "print(np.round(df[\"spam_ham\"].value_counts() / len(df) *100))\n",
    "sns.countplot(x=\"spam_ham\",data=df)"
   ]
  },
  {
   "cell_type": "markdown",
   "metadata": {},
   "source": [
    "So we have a proportion of 31% of Spam and 69% of ham emails."
   ]
  },
  {
   "cell_type": "code",
   "execution_count": 11,
   "metadata": {
    "scrolled": true
   },
   "outputs": [],
   "source": [
    "X = df.drop(columns=[\"spam_ham\"])\n",
    "y = df[\"spam_ham\"]"
   ]
  },
  {
   "cell_type": "code",
   "execution_count": 12,
   "metadata": {},
   "outputs": [],
   "source": [
    "#Split the datasets into a training set and a test set.\n",
    "#X_train,y_train,X_test,y_test = train_test_split(X,y,test_size=0.2, random_state=42)"
   ]
  },
  {
   "cell_type": "code",
   "execution_count": 13,
   "metadata": {
    "scrolled": true
   },
   "outputs": [],
   "source": [
    "split = StratifiedShuffleSplit(n_splits=1,test_size=0.2,random_state=42)\n",
    "for train_index,test_index in split.split(X,y):\n",
    "    strat_train_set = df.iloc[train_index]\n",
    "    strat_test_set = df.iloc[test_index]"
   ]
  },
  {
   "cell_type": "code",
   "execution_count": 2,
   "metadata": {},
   "outputs": [
    {
     "ename": "NameError",
     "evalue": "name 'strat_train_set' is not defined",
     "output_type": "error",
     "traceback": [
      "\u001b[0;31m---------------------------------------------------------------------------\u001b[0m",
      "\u001b[0;31mNameError\u001b[0m                                 Traceback (most recent call last)",
      "\u001b[0;32m<ipython-input-2-abb2496728f8>\u001b[0m in \u001b[0;36m<module>\u001b[0;34m\u001b[0m\n\u001b[0;32m----> 1\u001b[0;31m \u001b[0mstrat_train_set\u001b[0m\u001b[0;34m\u001b[0m\u001b[0;34m\u001b[0m\u001b[0m\n\u001b[0m",
      "\u001b[0;31mNameError\u001b[0m: name 'strat_train_set' is not defined"
     ]
    }
   ],
   "source": [
    "strat_train_set"
   ]
  },
  {
   "cell_type": "code",
   "execution_count": 14,
   "metadata": {},
   "outputs": [],
   "source": [
    "token = RegexpTokenizer(r'[a-zA-Z0-9]+')"
   ]
  },
  {
   "cell_type": "code",
   "execution_count": 15,
   "metadata": {},
   "outputs": [],
   "source": [
    "nlp_pipeline =  Pipeline([\n",
    "                #remove unwanted elements from out data like symbols and numbers\n",
    "                (\"countvectorizer\",CountVectorizer(lowercase=True,stop_words='english',ngram_range = (1,1),tokenizer = token.tokenize))\n",
    "                ])"
   ]
  },
  {
   "cell_type": "code",
   "execution_count": 16,
   "metadata": {},
   "outputs": [],
   "source": [
    "Feature_selection = Pipeline([\n",
    "    ('Rf',RandomForestClassifier(n_jobs=-1,random_state=42))\n",
    "                            ])"
   ]
  },
  {
   "cell_type": "code",
   "execution_count": 17,
   "metadata": {},
   "outputs": [],
   "source": [
    "model_pipeline = Pipeline([\n",
    "    ('transformation_pipeline',nlp_pipeline),\n",
    "    ('Feature_selection',Feature_selection)])"
   ]
  },
  {
   "cell_type": "code",
   "execution_count": 18,
   "metadata": {},
   "outputs": [],
   "source": [
    "#Preparing fata for the first machine learning algorithm\n",
    "\n",
    "spam_ham = strat_train_set.drop(\"spam_ham\",axis=1)\n",
    "spam_ham_labels = strat_train_set[\"spam_ham\"].copy()"
   ]
  },
  {
   "cell_type": "code",
   "execution_count": 19,
   "metadata": {
    "scrolled": true
   },
   "outputs": [],
   "source": [
    "strat_train_set_prepared = nlp_pipeline.fit_transform(spam_ham[\"emails\"])"
   ]
  },
  {
   "cell_type": "code",
   "execution_count": 20,
   "metadata": {},
   "outputs": [],
   "source": [
    "from sklearn.model_selection import cross_val_score"
   ]
  },
  {
   "cell_type": "code",
   "execution_count": 21,
   "metadata": {
    "scrolled": true
   },
   "outputs": [
    {
     "name": "stderr",
     "output_type": "stream",
     "text": [
      "/home/alex/anaconda3/lib/python3.7/site-packages/sklearn/ensemble/forest.py:245: FutureWarning: The default value of n_estimators will change from 10 in version 0.20 to 100 in 0.22.\n",
      "  \"10 in version 0.20 to 100 in 0.22.\", FutureWarning)\n",
      "/home/alex/anaconda3/lib/python3.7/site-packages/sklearn/ensemble/forest.py:245: FutureWarning: The default value of n_estimators will change from 10 in version 0.20 to 100 in 0.22.\n",
      "  \"10 in version 0.20 to 100 in 0.22.\", FutureWarning)\n",
      "/home/alex/anaconda3/lib/python3.7/site-packages/sklearn/ensemble/forest.py:245: FutureWarning: The default value of n_estimators will change from 10 in version 0.20 to 100 in 0.22.\n",
      "  \"10 in version 0.20 to 100 in 0.22.\", FutureWarning)\n"
     ]
    }
   ],
   "source": [
    "score = cross_val_score(Feature_selection,strat_train_set_prepared,spam_ham_labels,cv=3,scoring=\"accuracy\")"
   ]
  },
  {
   "cell_type": "code",
   "execution_count": 22,
   "metadata": {},
   "outputs": [
    {
     "data": {
      "text/plain": [
       "0.9663215002638875"
      ]
     },
     "execution_count": 22,
     "metadata": {},
     "output_type": "execute_result"
    }
   ],
   "source": [
    "np.mean(score)"
   ]
  },
  {
   "cell_type": "code",
   "execution_count": 23,
   "metadata": {},
   "outputs": [],
   "source": [
    "#Preparing fata for the first machine learning algorithm\n",
    "\n",
    "spam_ham_test = strat_train_set.drop(\"spam_ham\",axis=1)\n",
    "spam_ham_labels_test = strat_train_set[\"spam_ham\"].copy()"
   ]
  },
  {
   "cell_type": "code",
   "execution_count": 24,
   "metadata": {
    "scrolled": true
   },
   "outputs": [],
   "source": [
    "strat_test_set_prepared = nlp_pipeline.fit_transform(spam_ham_test[\"emails\"])"
   ]
  },
  {
   "cell_type": "code",
   "execution_count": 25,
   "metadata": {},
   "outputs": [
    {
     "name": "stderr",
     "output_type": "stream",
     "text": [
      "/home/alex/anaconda3/lib/python3.7/site-packages/sklearn/ensemble/forest.py:245: FutureWarning: The default value of n_estimators will change from 10 in version 0.20 to 100 in 0.22.\n",
      "  \"10 in version 0.20 to 100 in 0.22.\", FutureWarning)\n"
     ]
    },
    {
     "data": {
      "text/plain": [
       "Pipeline(memory=None,\n",
       "         steps=[('Rf',\n",
       "                 RandomForestClassifier(bootstrap=True, class_weight=None,\n",
       "                                        criterion='gini', max_depth=None,\n",
       "                                        max_features='auto',\n",
       "                                        max_leaf_nodes=None,\n",
       "                                        min_impurity_decrease=0.0,\n",
       "                                        min_impurity_split=None,\n",
       "                                        min_samples_leaf=1, min_samples_split=2,\n",
       "                                        min_weight_fraction_leaf=0.0,\n",
       "                                        n_estimators=10, n_jobs=-1,\n",
       "                                        oob_score=False, random_state=42,\n",
       "                                        verbose=0, warm_start=False))],\n",
       "         verbose=False)"
      ]
     },
     "execution_count": 25,
     "metadata": {},
     "output_type": "execute_result"
    }
   ],
   "source": [
    "Feature_selection.fit(strat_train_set_prepared,spam_ham_labels)"
   ]
  },
  {
   "cell_type": "code",
   "execution_count": 26,
   "metadata": {
    "scrolled": true
   },
   "outputs": [],
   "source": [
    "y_predict = Feature_selection.predict(strat_test_set_prepared)\n",
    "spam_ham_labels_test = [1 if x ==\"spam\" else 0 for x in spam_ham_labels_test]\n",
    "y_predict = [1 if x ==\"spam\" else 0 for x in y_predict]"
   ]
  },
  {
   "cell_type": "code",
   "execution_count": 27,
   "metadata": {},
   "outputs": [],
   "source": [
    "from sklearn.metrics import roc_auc_score,roc_curve,accuracy_score,\\\n",
    "                            precision_score,precision_recall_curve,\\\n",
    "                            confusion_matrix,recall_score,\\\n",
    "                            classification_report,f1_score\n",
    "\n",
    "#Using the Sklearn visualization API...\n",
    "from scikitplot.metrics import plot_confusion_matrix,plot_precision_recall,plot_roc_curve"
   ]
  },
  {
   "cell_type": "code",
   "execution_count": 28,
   "metadata": {},
   "outputs": [],
   "source": [
    "def plot_roc_curve(fpr,tpr,label=None):\n",
    "    plt.figure(figsize=(12,8))\n",
    "    plt.plot(fpr,tpr,linewidth = 2,label=label)\n",
    "    plt.plot([0,1],[0,1],\"k--\") #Dashed diagonal\n",
    "    plt.ylabel(\"True Positive Rate (FPR) / Recall / Sensitivity\")\n",
    "    plt.xlabel(\"True Negative Rate (FPR) /1- Specificity\")\n",
    "    plt.legend()\n",
    "    \n",
    "def print_metrics(predicted_y,y_test):\n",
    "    \n",
    "    fpr , tpr, thresholds = roc_curve(predicted_y,y_test)\n",
    "    \n",
    "    plot_roc_curve(fpr , tpr)\n",
    "    plt.show()\n",
    "    \n",
    "    print(f\"The area under the roc curve is {roc_auc_score(predicted_y,y_test)}\")\n",
    "    \n",
    "   \n",
    "    print(\"\\n\")\n",
    "    print(f\"Accuracy Score : {(accuracy_score(predicted_y,y_test))}\")\n",
    "    print(f\"Precision Score : {(precision_score(predicted_y,y_test))}\")\n",
    "    print(f\"Recall Score : {(recall_score(predicted_y,y_test))}\")\n",
    "    print(f\"F1 Score : {(f1_score(predicted_y,y_test))}\")\n",
    "    print(\"\\n\")\n",
    "    print(plot_confusion_matrix(predicted_y,y_test))\n",
    "    print(f\"{classification_report(predicted_y,y_test)}\")"
   ]
  },
  {
   "cell_type": "code",
   "execution_count": 29,
   "metadata": {
    "scrolled": false
   },
   "outputs": [
    {
     "name": "stderr",
     "output_type": "stream",
     "text": [
      "No handles with labels found to put in legend.\n"
     ]
    },
    {
     "data": {
      "image/png": "[encoded data removed]",
      "text/plain": [
       "<Figure size 864x576 with 1 Axes>"
      ]
     },
     "metadata": {
      "needs_background": "light"
     },
     "output_type": "display_data"
    },
    {
     "name": "stdout",
     "output_type": "stream",
     "text": [
      "The area under the roc curve is 0.9976861536674082\n",
      "\n",
      "\n",
      "Accuracy Score : 0.9973140495867768\n",
      "Precision Score : 0.9927536231884058\n",
      "Recall Score : 0.998674618952949\n",
      "F1 Score : 0.9957053187974892\n",
      "\n",
      "\n",
      "AxesSubplot(0.125,0.125;0.62x0.755)\n",
      "              precision    recall  f1-score   support\n",
      "\n",
      "           0       1.00      1.00      1.00      3331\n",
      "           1       0.99      1.00      1.00      1509\n",
      "\n",
      "    accuracy                           1.00      4840\n",
      "   macro avg       1.00      1.00      1.00      4840\n",
      "weighted avg       1.00      1.00      1.00      4840\n",
      "\n"
     ]
    },
    {
     "data": {
      "image/png": "[encoded data removed]",
      "text/plain": [
       "<Figure size 432x288 with 2 Axes>"
      ]
     },
     "metadata": {
      "needs_background": "light"
     },
     "output_type": "display_data"
    }
   ],
   "source": [
    "print_metrics(y_predict,spam_ham_labels_test)"
   ]
  }
 ],
 "metadata": {
  "kernelspec": {
   "display_name": "Python 3",
   "language": "python",
   "name": "python3"
  },
  "language_info": {
   "codemirror_mode": {
    "name": "ipython",
    "version": 3
   },
   "file_extension": ".py",
   "mimetype": "text/x-python",
   "name": "python",
   "nbconvert_exporter": "python",
   "pygments_lexer": "ipython3",
   "version": "3.7.3"
  }
 },
 "nbformat": 4,
 "nbformat_minor": 2
}
