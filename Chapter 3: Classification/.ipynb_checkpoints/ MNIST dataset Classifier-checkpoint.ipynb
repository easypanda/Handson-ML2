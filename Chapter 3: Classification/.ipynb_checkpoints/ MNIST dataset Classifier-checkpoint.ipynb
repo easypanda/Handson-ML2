{
 "cells": [
  {
   "cell_type": "markdown",
   "metadata": {},
   "source": [
    "# TO BE DONE!"
   ]
  },
  {
   "cell_type": "markdown",
   "metadata": {},
   "source": [
    "## Try to build a classifier for the MNIST dataset that achieves over 97% accuracy on the test set.\n",
    "Hint: the KNeighborsClassifier works quite well for this task; you just need to find good hyperparameter values (try a grid search on the weights and n_neighbors hyperparameters)."
   ]
  },
  {
   "cell_type": "code",
   "execution_count": 1,
   "metadata": {},
   "outputs": [],
   "source": [
    "#Importing the librairies\n",
    "\n",
    "import os\n",
    "import tarfile\n",
    "import urllib\n",
    "\n",
    "import pandas as pd\n",
    "import numpy as np\n",
    "import matplotlib.pyplot as plt\n",
    "import seaborn as sns\n",
    "sns.set_style(\"whitegrid\")\n",
    "\n",
    "#Only for jupyter notebooks\n",
    "%matplotlib inline"
   ]
  },
  {
   "cell_type": "code",
   "execution_count": 2,
   "metadata": {},
   "outputs": [],
   "source": [
    "from sklearn.datasets import fetch_openml"
   ]
  },
  {
   "cell_type": "code",
   "execution_count": 3,
   "metadata": {},
   "outputs": [
    {
     "data": {
      "text/plain": [
       "dict_keys(['data', 'target', 'feature_names', 'DESCR', 'details', 'categories', 'url'])"
      ]
     },
     "execution_count": 3,
     "metadata": {},
     "output_type": "execute_result"
    }
   ],
   "source": [
    "mnist = fetch_openml(\"mnist_784\",version=1)\n",
    "mnist.keys()"
   ]
  },
  {
   "cell_type": "code",
   "execution_count": 4,
   "metadata": {},
   "outputs": [
    {
     "name": "stdout",
     "output_type": "stream",
     "text": [
      "**Author**: Yann LeCun, Corinna Cortes, Christopher J.C. Burges  \n",
      "**Source**: [MNIST Website](http://yann.lecun.com/exdb/mnist/) - Date unknown  \n",
      "**Please cite**:  \n",
      "\n",
      "The MNIST database of handwritten digits with 784 features, raw data available at: http://yann.lecun.com/exdb/mnist/. It can be split in a training set of the first 60,000 examples, and a test set of 10,000 examples  \n",
      "\n",
      "It is a subset of a larger set available from NIST. The digits have been size-normalized and centered in a fixed-size image. It is a good database for people who want to try learning techniques and pattern recognition methods on real-world data while spending minimal efforts on preprocessing and formatting. The original black and white (bilevel) images from NIST were size normalized to fit in a 20x20 pixel box while preserving their aspect ratio. The resulting images contain grey levels as a result of the anti-aliasing technique used by the normalization algorithm. the images were centered in a 28x28 image by computing the center of mass of the pixels, and translating the image so as to position this point at the center of the 28x28 field.  \n",
      "\n",
      "With some classification methods (particularly template-based methods, such as SVM and K-nearest neighbors), the error rate improves when the digits are centered by bounding box rather than center of mass. If you do this kind of pre-processing, you should report it in your publications. The MNIST database was constructed from NIST's NIST originally designated SD-3 as their training set and SD-1 as their test set. However, SD-3 is much cleaner and easier to recognize than SD-1. The reason for this can be found on the fact that SD-3 was collected among Census Bureau employees, while SD-1 was collected among high-school students. Drawing sensible conclusions from learning experiments requires that the result be independent of the choice of training set and test among the complete set of samples. Therefore it was necessary to build a new database by mixing NIST's datasets.  \n",
      "\n",
      "The MNIST training set is composed of 30,000 patterns from SD-3 and 30,000 patterns from SD-1. Our test set was composed of 5,000 patterns from SD-3 and 5,000 patterns from SD-1. The 60,000 pattern training set contained examples from approximately 250 writers. We made sure that the sets of writers of the training set and test set were disjoint. SD-1 contains 58,527 digit images written by 500 different writers. In contrast to SD-3, where blocks of data from each writer appeared in sequence, the data in SD-1 is scrambled. Writer identities for SD-1 is available and we used this information to unscramble the writers. We then split SD-1 in two: characters written by the first 250 writers went into our new training set. The remaining 250 writers were placed in our test set. Thus we had two sets with nearly 30,000 examples each. The new training set was completed with enough examples from SD-3, starting at pattern # 0, to make a full set of 60,000 training patterns. Similarly, the new test set was completed with SD-3 examples starting at pattern # 35,000 to make a full set with 60,000 test patterns. Only a subset of 10,000 test images (5,000 from SD-1 and 5,000 from SD-3) is available on this site. The full 60,000 sample training set is available.\n",
      "\n",
      "Downloaded from openml.org.\n"
     ]
    }
   ],
   "source": [
    "print(mnist[\"DESCR\"])"
   ]
  },
  {
   "cell_type": "code",
   "execution_count": 5,
   "metadata": {},
   "outputs": [],
   "source": [
    "X, y = mnist[\"data\"], mnist[\"target\"]"
   ]
  },
  {
   "cell_type": "code",
   "execution_count": 6,
   "metadata": {},
   "outputs": [
    {
     "data": {
      "text/plain": [
       "(70000, 784)"
      ]
     },
     "execution_count": 6,
     "metadata": {},
     "output_type": "execute_result"
    }
   ],
   "source": [
    "X.shape #Number of rows and number of features."
   ]
  },
  {
   "cell_type": "code",
   "execution_count": 7,
   "metadata": {},
   "outputs": [
    {
     "data": {
      "text/plain": [
       "(70000,)"
      ]
     },
     "execution_count": 7,
     "metadata": {},
     "output_type": "execute_result"
    }
   ],
   "source": [
    "y.shape #Number of rows, the label of each picture"
   ]
  },
  {
   "cell_type": "code",
   "execution_count": 8,
   "metadata": {},
   "outputs": [
    {
     "data": {
      "image/png": "[encoded data removed]",
      "text/plain": [
       "<Figure size 432x288 with 1 Axes>"
      ]
     },
     "metadata": {
      "needs_background": "light"
     },
     "output_type": "display_data"
    },
    {
     "data": {
      "text/plain": [
       "'5'"
      ]
     },
     "execution_count": 8,
     "metadata": {},
     "output_type": "execute_result"
    }
   ],
   "source": [
    "random_digit = X[0]\n",
    "random_digit_image = random_digit.reshape(28,28) #Reshaping the image to be seen with matplotlib.\n",
    "plt.imshow(random_digit_image,cmap=\"binary\")\n",
    "plt.axis(\"off\")\n",
    "plt.show()\n",
    "\n",
    "#Comparing to the label\n",
    "y[0]"
   ]
  },
  {
   "cell_type": "code",
   "execution_count": 9,
   "metadata": {},
   "outputs": [],
   "source": [
    "from sklearn.pipeline import Pipeline\n",
    "from sklearn.neighbors import KNeighborsClassifier\n",
    "from sklearn.preprocessing import StandardScaler\n",
    "from sklearn.model_selection import StratifiedShuffleSplit,GridSearchCV\n",
    "from sklearn.metrics import confusion_matrix,\\\n",
    "                            classification_report,\\\n",
    "                            precision_score,\\\n",
    "                            accuracy_score,\\\n",
    "                            recall_score,\\\n",
    "                            roc_auc_score,\\\n",
    "                            roc_curve,\\\n",
    "                            f1_score\n",
    "#Using the Sklearn visualization API...\n",
    "from scikitplot.metrics import plot_confusion_matrix,plot_precision_recall,plot_roc_curve"
   ]
  },
  {
   "cell_type": "code",
   "execution_count": 10,
   "metadata": {},
   "outputs": [],
   "source": [
    "from sklearn.model_selection import RandomizedSearchCV\n",
    "from sklearn.decomposition import TruncatedSVD\n",
    "from scipy.stats import uniform\n",
    "from scipy.stats import randint as sp_randint"
   ]
  },
  {
   "cell_type": "code",
   "execution_count": 11,
   "metadata": {},
   "outputs": [],
   "source": [
    "#We split the data with a stratified split\n",
    "split = StratifiedShuffleSplit(n_splits=1,test_size=0.2,random_state=42)\n",
    "for train_index,test_index in split.split(X,y):\n",
    "    train_set = X[train_index],y[train_index]\n",
    "    test_set = X[test_index],y[test_index]"
   ]
  },
  {
   "cell_type": "code",
   "execution_count": 12,
   "metadata": {},
   "outputs": [],
   "source": [
    "x_train = train_set[0]\n",
    "y_train = train_set[1]\n",
    "\n",
    "x_test = test_set[0]\n",
    "y_test = test_set[1]"
   ]
  },
  {
   "cell_type": "code",
   "execution_count": null,
   "metadata": {
    "scrolled": true
   },
   "outputs": [],
   "source": [
    "Model = Pipeline([\n",
    "    (\"std\",StandardScaler()),\n",
    "    (\"Trucated\",TruncatedSVD(n_components=100)),\n",
    "    ('Knn',KNeighborsClassifier())\n",
    "                            ])"
   ]
  },
  {
   "cell_type": "code",
   "execution_count": null,
   "metadata": {},
   "outputs": [],
   "source": [
    "#GridSearch\n",
    "#Model.get_params().keys() to get the parameters to pass to the GridSearch\n",
    "\n",
    "#param_grid = [\n",
    "#    {'Knn__n_neighbors' : list(np.arange(5,8,1)),\n",
    "#    \"Knn__weights\":['ball_tree', 'kd_tree', 'brute']}\n",
    "#]\n",
    "\n",
    "#grid_search = GridSearchCV(Model,param_grid,cv=3,scoring=\"accuracy\",return_train_score=True,verbose=10,n_jobs=-1)\n",
    "\n",
    "#grid_search.fit(x_train,y_train)\n",
    "\n",
    "\n",
    "#print(f\"Our best parameters: {grid_search.best_params_}\")\n",
    "#print(f\"Our best estimator: {grid_search.best_estimator_}\")\n",
    "#print(f\"Our best score: {grid_search.best_score_}\")"
   ]
  },
  {
   "cell_type": "code",
   "execution_count": null,
   "metadata": {},
   "outputs": [],
   "source": [
    "n_neighbors = sp_randint(10, 15)\n",
    "weights = ['uniform', 'distance']\n",
    "leaf_size = sp_randint(30,60)"
   ]
  },
  {
   "cell_type": "code",
   "execution_count": null,
   "metadata": {},
   "outputs": [],
   "source": [
    "random_search = {\n",
    "                'Knn__n_neighbors': n_neighbors,\n",
    "                'Knn__weights':weights,\n",
    "                'Knn__leaf_size': leaf_size\n",
    "                }"
   ]
  },
  {
   "cell_type": "code",
   "execution_count": null,
   "metadata": {
    "scrolled": false
   },
   "outputs": [],
   "source": [
    "SVC_KNN = RandomizedSearchCV(Model,param_distributions=random_search,n_iter=3,n_jobs=-1,verbose=10)\n",
    "SVC_KNN.fit(x_train,y_train)\n",
    "print(f\"Our best parameters: {SVC_KNN.best_params_}\")\n",
    "print(f\"Our best estimator: {SVC_KNN.best_estimator_}\")\n",
    "print(f\"Our best score: {SVC_KNN.best_score_}\")"
   ]
  },
  {
   "cell_type": "code",
   "execution_count": null,
   "metadata": {},
   "outputs": [],
   "source": [
    "SVC_KNN.get_params().keys()"
   ]
  },
  {
   "cell_type": "code",
   "execution_count": null,
   "metadata": {},
   "outputs": [],
   "source": [
    "def print_metrics(predicted_y,y_test):   \n",
    "    print(\"\\n\")\n",
    "    print(f\"Accuracy Score : {(accuracy_score(predicted_y,y_test))}\")\n",
    "    print(f\"Precision Score : {(precision_score(predicted_y,y_test,average=None))}\")\n",
    "    print(f\"Recall Score : {(recall_score(predicted_y,y_test,average=None))}\")\n",
    "    print(f\"F1 Score : {(f1_score(predicted_y,y_test,average=None))}\")\n",
    "    print(\"\\n\")\n",
    "    print(plot_confusion_matrix(predicted_y,y_test))\n",
    "    print(f\"{classification_report(predicted_y,y_test)}\")"
   ]
  },
  {
   "cell_type": "code",
   "execution_count": null,
   "metadata": {},
   "outputs": [],
   "source": [
    "predicted_y = SVC_KNN.predict(x_test)"
   ]
  },
  {
   "cell_type": "code",
   "execution_count": null,
   "metadata": {
    "scrolled": false
   },
   "outputs": [],
   "source": [
    "print_metrics(predicted_y,y_test)"
   ]
  },
  {
   "cell_type": "markdown",
   "metadata": {},
   "source": [
    "## Write a function that can shift an MNIST image in any direction (left, right, up, or down) by one pixel."
   ]
  },
  {
   "cell_type": "code",
   "execution_count": 13,
   "metadata": {
    "scrolled": true
   },
   "outputs": [],
   "source": [
    "def shift_img(img,direction):\n",
    "    \n",
    "    if direction == \"up\":\n",
    "        img_copy = np.roll(img, -1, axis=0).reshape(784,) # up\n",
    "    elif direction == \"down\":\n",
    "        img_copy = np.roll(img, 1, axis=0).reshape(784,) # down\n",
    "    elif direction == \"right\":    \n",
    "        img_copy = np.roll(img.reshape(28,28), 1, axis=1).reshape(784,) # right\n",
    "    elif direction == \"left\":\n",
    "        img_copy = np.roll(img.reshape(28,28), -1, axis=1).reshape(784,) # left\n",
    "    \n",
    "    return img_copy"
   ]
  },
  {
   "cell_type": "code",
   "execution_count": 14,
   "metadata": {},
   "outputs": [],
   "source": [
    "img_shifted = shift_img(random_digit,\"up\")"
   ]
  },
  {
   "cell_type": "code",
   "execution_count": 15,
   "metadata": {
    "scrolled": true
   },
   "outputs": [
    {
     "data": {
      "image/png": "[encoded data removed]",
      "text/plain": [
       "<Figure size 432x288 with 1 Axes>"
      ]
     },
     "metadata": {
      "needs_background": "light"
     },
     "output_type": "display_data"
    }
   ],
   "source": [
    "plt.imshow(img_shifted.reshape(28,28),cmap=\"binary\")\n",
    "plt.axis(\"off\")\n",
    "plt.show()"
   ]
  },
  {
   "cell_type": "markdown",
   "metadata": {},
   "source": [
    "## Then, for each image in the training set, create four shifted copies (one per direction) and add them to the training set."
   ]
  },
  {
   "cell_type": "code",
   "execution_count": 16,
   "metadata": {},
   "outputs": [],
   "source": [
    "new_data = []\n",
    "new_label = []\n",
    "\n",
    "for i in np.arange(0,len(x_train)-1):\n",
    "    label = y_train[i]\n",
    "    \n",
    "    \n",
    "    img_shifted = shift_img(x_train[i],\"up\")\n",
    "    \n",
    "    new_data.append(img_shifted)\n",
    "    new_label.append(label)\n",
    "    \n",
    "    img_shifted = shift_img(x_train[i],\"down\")\n",
    "    new_data.append(img_shifted)\n",
    "    new_label.append(label)\n",
    "\n",
    "              \n",
    "    img_shifted = shift_img(x_train[i],\"left\")\n",
    "    new_data.append(img_shifted)\n",
    "    new_label.append(label)\n",
    "\n",
    "              \n",
    "    img_shifted = shift_img(x_train[i],\"right\")\n",
    "    new_data.append(img_shifted)\n",
    "    new_label.append(label)"
   ]
  },
  {
   "cell_type": "code",
   "execution_count": 18,
   "metadata": {},
   "outputs": [],
   "source": [
    "x_train_augmented = list(x_train.copy())"
   ]
  },
  {
   "cell_type": "code",
   "execution_count": 19,
   "metadata": {},
   "outputs": [],
   "source": [
    "x_train_augmented.extend(new_data)"
   ]
  },
  {
   "cell_type": "code",
   "execution_count": 21,
   "metadata": {},
   "outputs": [],
   "source": [
    "x_train_augmented = np.asarray(x_train_augmented)"
   ]
  },
  {
   "cell_type": "code",
   "execution_count": 27,
   "metadata": {},
   "outputs": [],
   "source": [
    "y_train = y_train.astype(np.int)\n",
    "new_label = np.asarray(new_label).astype(np.int)\n",
    "y_train_augmented = np.append(y_train , new_label)"
   ]
  },
  {
   "cell_type": "code",
   "execution_count": 30,
   "metadata": {},
   "outputs": [
    {
     "name": "stdout",
     "output_type": "stream",
     "text": [
      "(279996, 784)\n",
      "(279996,)\n"
     ]
    }
   ],
   "source": [
    "print(x_train_augmented.shape)\n",
    "print(y_train.shape)"
   ]
  },
  {
   "cell_type": "code",
   "execution_count": 28,
   "metadata": {},
   "outputs": [],
   "source": [
    "del new_label\n",
    "del new_data"
   ]
  },
  {
   "cell_type": "markdown",
   "metadata": {},
   "source": [
    "## Finally, train your best model on this expanded training set and measure its accuracy on the test set.\n",
    "You should observe that your model performs even better now! This technique of artificially growing the training set is called data augmentation or training set expansion."
   ]
  },
  {
   "cell_type": "code",
   "execution_count": null,
   "metadata": {},
   "outputs": [],
   "source": []
  }
 ],
 "metadata": {
  "kernelspec": {
   "display_name": "Python 3",
   "language": "python",
   "name": "python3"
  },
  "language_info": {
   "codemirror_mode": {
    "name": "ipython",
    "version": 3
   },
   "file_extension": ".py",
   "mimetype": "text/x-python",
   "name": "python",
   "nbconvert_exporter": "python",
   "pygments_lexer": "ipython3",
   "version": "3.7.3"
  }
 },
 "nbformat": 4,
 "nbformat_minor": 2
}
