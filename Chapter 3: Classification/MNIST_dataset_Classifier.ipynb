{
 "cells": [
  {
   "cell_type": "markdown",
   "metadata": {
    "colab_type": "text",
    "id": "view-in-github"
   },
   "source": [
    "<a href=\"https://colab.research.google.com/github/easypanda/Handson-ML2/blob/master/MNIST_dataset_Classifier.ipynb\" target=\"_parent\"><img src=\"https://colab.research.google.com/assets/colab-badge.svg\" alt=\"Open In Colab\"/></a>"
   ]
  },
  {
   "cell_type": "code",
   "execution_count": null,
   "metadata": {
    "colab": {},
    "colab_type": "code",
    "id": "BWL48YL3woft"
   },
   "outputs": [],
   "source": [
    "from sklearn.model_selection import RandomizedSearchCV\n",
    "from sklearn.decomposition import TruncatedSVD\n",
    "from scipy.stats import uniform\n",
    "from scipy.stats import randint as sp_randint"
   ]
  },
  {
   "cell_type": "code",
   "execution_count": null,
   "metadata": {
    "colab": {},
    "colab_type": "code",
    "id": "a5iOHPunwH_l"
   },
   "outputs": [],
   "source": [
    "import psutil"
   ]
  },
  {
   "cell_type": "code",
   "execution_count": 25,
   "metadata": {
    "colab": {
     "base_uri": "https://localhost:8080/",
     "height": 54
    },
    "colab_type": "code",
    "id": "EWAZfouFwH_x",
    "outputId": "a0a1face-0415-4b54-bd91-a42c2beafaec"
   },
   "outputs": [
    {
     "data": {
      "text/plain": [
       "svmem(total=13655232512, available=12176592896, percent=10.8, used=4950679552, free=6601474048, active=1344995328, inactive=5447536640, buffers=75153408, cached=2027925504, shared=901120, slab=164110336)"
      ]
     },
     "execution_count": 25,
     "metadata": {
      "tags": []
     },
     "output_type": "execute_result"
    }
   ],
   "source": [
    "psutil.virtual_memory()"
   ]
  },
  {
   "cell_type": "code",
   "execution_count": 30,
   "metadata": {
    "colab": {
     "base_uri": "https://localhost:8080/",
     "height": 34
    },
    "colab_type": "code",
    "id": "-WU3Dj7DwH_7",
    "outputId": "c8208ebe-1457-455f-83b2-46468da31a79"
   },
   "outputs": [
    {
     "data": {
      "text/plain": [
       "2"
      ]
     },
     "execution_count": 30,
     "metadata": {
      "tags": []
     },
     "output_type": "execute_result"
    }
   ],
   "source": [
    "psutil.cpu_count()"
   ]
  },
  {
   "cell_type": "code",
   "execution_count": 35,
   "metadata": {
    "colab": {
     "base_uri": "https://localhost:8080/",
     "height": 106
    },
    "colab_type": "code",
    "id": "1Nb2f4fNwIAC",
    "outputId": "83f98c3b-7783-4fe7-e4ee-826ed5cab089"
   },
   "outputs": [
    {
     "name": "stdout",
     "output_type": "stream",
     "text": [
      "Populating the interactive namespace from numpy and matplotlib\n"
     ]
    },
    {
     "name": "stderr",
     "output_type": "stream",
     "text": [
      "/usr/local/lib/python3.6/dist-packages/IPython/core/magics/pylab.py:161: UserWarning: pylab import has clobbered these variables: ['split', 'uniform']\n",
      "`%matplotlib` prevents importing * from pylab and numpy\n",
      "  \"\\n`%matplotlib` prevents importing * from pylab and numpy\"\n"
     ]
    }
   ],
   "source": [
    "%pylab inline"
   ]
  },
  {
   "cell_type": "markdown",
   "metadata": {
    "colab_type": "text",
    "id": "OdNvo7BHwIAJ"
   },
   "source": [
    "## Try to build a classifier for the MNIST dataset that achieves over 97% accuracy on the test set.\n",
    "Hint: the KNeighborsClassifier works quite well for this task; you just need to find good hyperparameter values (try a grid search on the weights and n_neighbors hyperparameters)."
   ]
  },
  {
   "cell_type": "code",
   "execution_count": null,
   "metadata": {
    "colab": {},
    "colab_type": "code",
    "id": "VpHjKZgxwIAL"
   },
   "outputs": [],
   "source": [
    "#Importing the librairies\n",
    "\n",
    "import os\n",
    "import tarfile\n",
    "import urllib\n",
    "\n",
    "import pandas as pd\n",
    "import numpy as np\n",
    "\n",
    "import matplotlib.pyplot as plt\n",
    "import seaborn as sns\n",
    "sns.set_style(\"whitegrid\")\n",
    "\n",
    "#Only for jupyter notebooks\n",
    "%matplotlib inline"
   ]
  },
  {
   "cell_type": "code",
   "execution_count": null,
   "metadata": {
    "colab": {},
    "colab_type": "code",
    "id": "76t3sow7wIAT"
   },
   "outputs": [],
   "source": [
    "from sklearn.datasets import fetch_openml"
   ]
  },
  {
   "cell_type": "code",
   "execution_count": null,
   "metadata": {
    "colab": {
     "base_uri": "https://localhost:8080/",
     "height": 34
    },
    "colab_type": "code",
    "id": "6dkJgGZEwIAX",
    "outputId": "250fe4b3-214d-4dd6-90ed-e0451d5abd26"
   },
   "outputs": [],
   "source": [
    "mnist = fetch_openml(\"mnist_784\")#,version=1)\n",
    "mnist.keys()"
   ]
  },
  {
   "cell_type": "code",
   "execution_count": 27,
   "metadata": {
    "colab": {
     "base_uri": "https://localhost:8080/",
     "height": 263
    },
    "colab_type": "code",
    "id": "JUZO6OTdwIAc",
    "outputId": "170f3cc7-573b-4ff6-c9aa-b08ffde91736"
   },
   "outputs": [
    {
     "name": "stdout",
     "output_type": "stream",
     "text": [
      "**Author**: Yann LeCun, Corinna Cortes, Christopher J.C. Burges  \n",
      "**Source**: [MNIST Website](http://yann.lecun.com/exdb/mnist/) - Date unknown  \n",
      "**Please cite**:  \n",
      "\n",
      "The MNIST database of handwritten digits with 784 features, raw data available at: http://yann.lecun.com/exdb/mnist/. It can be split in a training set of the first 60,000 examples, and a test set of 10,000 examples  \n",
      "\n",
      "It is a subset of a larger set available from NIST. The digits have been size-normalized and centered in a fixed-size image. It is a good database for people who want to try learning techniques and pattern recognition methods on real-world data while spending minimal efforts on preprocessing and formatting. The original black and white (bilevel) images from NIST were size normalized to fit in a 20x20 pixel box while preserving their aspect ratio. The resulting images contain grey levels as a result of the anti-aliasing technique used by the normalization algorithm. the images were centered in a 28x28 image by computing the center of mass of the pixels, and translating the image so as to position this point at the center of the 28x28 field.  \n",
      "\n",
      "With some classification methods (particularly template-based methods, such as SVM and K-nearest neighbors), the error rate improves when the digits are centered by bounding box rather than center of mass. If you do this kind of pre-processing, you should report it in your publications. The MNIST database was constructed from NIST's NIST originally designated SD-3 as their training set and SD-1 as their test set. However, SD-3 is much cleaner and easier to recognize than SD-1. The reason for this can be found on the fact that SD-3 was collected among Census Bureau employees, while SD-1 was collected among high-school students. Drawing sensible conclusions from learning experiments requires that the result be independent of the choice of training set and test among the complete set of samples. Therefore it was necessary to build a new database by mixing NIST's datasets.  \n",
      "\n",
      "The MNIST training set is composed of 30,000 patterns from SD-3 and 30,000 patterns from SD-1. Our test set was composed of 5,000 patterns from SD-3 and 5,000 patterns from SD-1. The 60,000 pattern training set contained examples from approximately 250 writers. We made sure that the sets of writers of the training set and test set were disjoint. SD-1 contains 58,527 digit images written by 500 different writers. In contrast to SD-3, where blocks of data from each writer appeared in sequence, the data in SD-1 is scrambled. Writer identities for SD-1 is available and we used this information to unscramble the writers. We then split SD-1 in two: characters written by the first 250 writers went into our new training set. The remaining 250 writers were placed in our test set. Thus we had two sets with nearly 30,000 examples each. The new training set was completed with enough examples from SD-3, starting at pattern # 0, to make a full set of 60,000 training patterns. Similarly, the new test set was completed with SD-3 examples starting at pattern # 35,000 to make a full set with 60,000 test patterns. Only a subset of 10,000 test images (5,000 from SD-1 and 5,000 from SD-3) is available on this site. The full 60,000 sample training set is available.\n",
      "\n",
      "Downloaded from openml.org.\n"
     ]
    }
   ],
   "source": [
    "print(mnist[\"DESCR\"])"
   ]
  },
  {
   "cell_type": "code",
   "execution_count": null,
   "metadata": {
    "colab": {},
    "colab_type": "code",
    "id": "Ieyi7YI0wIAi"
   },
   "outputs": [],
   "source": [
    "X, y = mnist[\"data\"], mnist[\"target\"]"
   ]
  },
  {
   "cell_type": "code",
   "execution_count": 28,
   "metadata": {
    "colab": {
     "base_uri": "https://localhost:8080/",
     "height": 34
    },
    "colab_type": "code",
    "id": "NG1fQrUQwIAn",
    "outputId": "acd9de70-5990-40d3-a0e6-f25385321fb9"
   },
   "outputs": [
    {
     "data": {
      "text/plain": [
       "(70000,)"
      ]
     },
     "execution_count": 28,
     "metadata": {
      "tags": []
     },
     "output_type": "execute_result"
    }
   ],
   "source": [
    "X.shape #Number of rows and number of features.\n",
    "y.shape #Number of rows, the label of each picture"
   ]
  },
  {
   "cell_type": "code",
   "execution_count": 33,
   "metadata": {
    "colab": {
     "base_uri": "https://localhost:8080/",
     "height": 265
    },
    "colab_type": "code",
    "id": "q4opcElNwIAu",
    "outputId": "191b37f5-6b1d-44ac-e11d-827eaf95df52"
   },
   "outputs": [
    {
     "data": {
      "image/png": "[encoded data removed]",
      "text/plain": [
       "<Figure size 432x288 with 1 Axes>"
      ]
     },
     "metadata": {
      "tags": []
     },
     "output_type": "display_data"
    },
    {
     "data": {
      "text/plain": [
       "'5'"
      ]
     },
     "execution_count": 33,
     "metadata": {
      "tags": []
     },
     "output_type": "execute_result"
    }
   ],
   "source": [
    "random_digit = X[0]\n",
    "random_digit_image = random_digit.reshape(28,28) #Reshaping the image to be seen with matplotlib.\n",
    "plt.imshow(random_digit_image,cmap=\"binary\")\n",
    "plt.axis(\"off\")\n",
    "plt.show()\n",
    "\n",
    "#Comparing to the label\n",
    "y[0]"
   ]
  },
  {
   "cell_type": "code",
   "execution_count": null,
   "metadata": {
    "colab": {},
    "colab_type": "code",
    "id": "s3Ak1N71wIA1"
   },
   "outputs": [],
   "source": [
    "from sklearn.pipeline import Pipeline\n",
    "from sklearn.neighbors import KNeighborsClassifier\n",
    "from sklearn.preprocessing import StandardScaler\n",
    "from sklearn.model_selection import StratifiedShuffleSplit,GridSearchCV\n",
    "from sklearn.metrics import confusion_matrix,\\\n",
    "                            classification_report,\\\n",
    "                            precision_score,\\\n",
    "                            accuracy_score,\\\n",
    "                            recall_score,\\\n",
    "                            roc_auc_score,\\\n",
    "                            roc_curve,\\\n",
    "                            f1_score\n",
    "#Using the Sklearn visualization API...\n",
    "from scikitplot.metrics import plot_confusion_matrix,plot_precision_recall,plot_roc_curve"
   ]
  },
  {
   "cell_type": "code",
   "execution_count": null,
   "metadata": {
    "colab": {},
    "colab_type": "code",
    "id": "LUhfnRJMwIA_"
   },
   "outputs": [],
   "source": [
    "#We split the data with a stratified split\n",
    "split = StratifiedShuffleSplit(n_splits=1,test_size=0.2,random_state=42)\n",
    "for train_index,test_index in split.split(X,y):\n",
    "    train_set = X[train_index],y[train_index]\n",
    "    test_set = X[test_index],y[test_index]"
   ]
  },
  {
   "cell_type": "code",
   "execution_count": null,
   "metadata": {
    "colab": {},
    "colab_type": "code",
    "id": "BvBK736VwIBF"
   },
   "outputs": [],
   "source": [
    "x_train = train_set[0]\n",
    "y_train = train_set[1]\n",
    "\n",
    "x_test = test_set[0]\n",
    "y_test = test_set[1]"
   ]
  },
  {
   "cell_type": "code",
   "execution_count": null,
   "metadata": {
    "colab": {},
    "colab_type": "code",
    "id": "R1mJQhMtwv7k"
   },
   "outputs": [],
   "source": [
    "from sklearn.model_selection import RandomizedSearchCV\n",
    "from sklearn.decomposition import TruncatedSVD\n",
    "from scipy.stats import uniform\n",
    "from scipy.stats import randint as sp_randint"
   ]
  },
  {
   "cell_type": "code",
   "execution_count": null,
   "metadata": {
    "colab": {},
    "colab_type": "code",
    "id": "3oSM69XTwIBI"
   },
   "outputs": [],
   "source": [
    "Model = Pipeline([\n",
    "    (\"std\",StandardScaler()),\n",
    "    (\"Trucated\",TruncatedSVD(n_components=100)),\n",
    "    ('Knn',KNeighborsClassifier())\n",
    "                            ])"
   ]
  },
  {
   "cell_type": "code",
   "execution_count": null,
   "metadata": {
    "colab": {},
    "colab_type": "code",
    "id": "71ZgPMCowIBL"
   },
   "outputs": [],
   "source": [
    "n_neighbors = sp_randint(10, 15)\n",
    "weights = ['uniform', 'distance']\n",
    "leaf_size = sp_randint(30,60)"
   ]
  },
  {
   "cell_type": "code",
   "execution_count": null,
   "metadata": {
    "colab": {},
    "colab_type": "code",
    "id": "VmNpBo-5wIBQ"
   },
   "outputs": [],
   "source": [
    "random_search = {\n",
    "                'Knn__n_neighbors': n_neighbors,\n",
    "                'Knn__weights':weights,\n",
    "                'Knn__leaf_size': leaf_size\n",
    "                }"
   ]
  },
  {
   "cell_type": "code",
   "execution_count": null,
   "metadata": {
    "colab": {},
    "colab_type": "code",
    "id": "AIcv_Qe4wIBT"
   },
   "outputs": [],
   "source": [
    "SVC_KNN = RandomizedSearchCV(Model,param_distributions=random_search,n_iter=10,n_jobs=-1,verbose=10)\n",
    "SVC_KNN.fit(x_train,y_train)\n",
    "print(f\"Our best parameters: {SVC_KNN.best_params_}\")\n",
    "print(f\"Our best estimator: {SVC_KNN.best_estimator_}\")\n",
    "print(f\"Our best score: {SVC_KNN.best_score_}\")"
   ]
  },
  {
   "cell_type": "code",
   "execution_count": null,
   "metadata": {
    "colab": {},
    "colab_type": "code",
    "id": "-KXfKB3pwIBY"
   },
   "outputs": [],
   "source": [
    "def print_metrics(predicted_y,y_test):   \n",
    "    print(\"\\n\")\n",
    "    print(f\"Accuracy Score : {(accuracy_score(predicted_y,y_test))}\")\n",
    "    print(f\"Precision Score : {(precision_score(predicted_y,y_test,average=None))}\")\n",
    "    print(f\"Recall Score : {(recall_score(predicted_y,y_test,average=None))}\")\n",
    "    print(f\"F1 Score : {(f1_score(predicted_y,y_test,average=None))}\")\n",
    "    print(\"\\n\")\n",
    "    print(plot_confusion_matrix(predicted_y,y_test))\n",
    "    print(f\"{classification_report(predicted_y,y_test)}\")"
   ]
  },
  {
   "cell_type": "code",
   "execution_count": null,
   "metadata": {
    "colab": {},
    "colab_type": "code",
    "id": "IXUczHwBwIBd"
   },
   "outputs": [],
   "source": [
    "predicted_y = SVC_KNN.predict(x_test)"
   ]
  },
  {
   "cell_type": "code",
   "execution_count": 44,
   "metadata": {
    "colab": {
     "base_uri": "https://localhost:8080/",
     "height": 799
    },
    "colab_type": "code",
    "id": "l8pGVL9VwIBh",
    "outputId": "0c9ac35e-42b0-499c-843a-bc614804249d"
   },
   "outputs": [
    {
     "name": "stdout",
     "output_type": "stream",
     "text": [
      "\n",
      "\n",
      "Accuracy Score : 0.9557857142857142\n",
      "Precision Score : [0.99275887 0.98920635 0.94635193 0.94817927 0.94139194 0.93343899\n",
      " 0.98109091 0.94722413 0.93333333 0.93893678]\n",
      "Recall Score : [0.96685472 0.96710118 0.96710526 0.95419309 0.9712774  0.95076675\n",
      " 0.96357143 0.94463431 0.95430712 0.91783708]\n",
      "F1 Score : [0.97963558 0.97802888 0.95661605 0.95117668 0.95610119 0.94202319\n",
      " 0.97225225 0.94592745 0.9437037  0.92826705]\n",
      "\n",
      "\n",
      "AxesSubplot(0.125,0.125;0.62x0.755)\n",
      "              precision    recall  f1-score   support\n",
      "\n",
      "           0       0.99      0.97      0.98      1418\n",
      "           1       0.99      0.97      0.98      1611\n",
      "           2       0.95      0.97      0.96      1368\n",
      "           3       0.95      0.95      0.95      1419\n",
      "           4       0.94      0.97      0.96      1323\n",
      "           5       0.93      0.95      0.94      1239\n",
      "           6       0.98      0.96      0.97      1400\n",
      "           7       0.95      0.94      0.95      1463\n",
      "           8       0.93      0.95      0.94      1335\n",
      "           9       0.94      0.92      0.93      1424\n",
      "\n",
      "    accuracy                           0.96     14000\n",
      "   macro avg       0.96      0.96      0.96     14000\n",
      "weighted avg       0.96      0.96      0.96     14000\n",
      "\n"
     ]
    },
    {
     "data": {
      "image/png": "[encoded data removed]",
      "text/plain": [
       "<Figure size 432x288 with 2 Axes>"
      ]
     },
     "metadata": {
      "tags": []
     },
     "output_type": "display_data"
    }
   ],
   "source": [
    "print_metrics(predicted_y,y_test)"
   ]
  },
  {
   "cell_type": "markdown",
   "metadata": {
    "colab_type": "text",
    "id": "WLxFMiQAwIBm"
   },
   "source": [
    "## Write a function that can shift an MNIST image in any direction (left, right, up, or down) by one pixel."
   ]
  },
  {
   "cell_type": "code",
   "execution_count": null,
   "metadata": {
    "colab": {},
    "colab_type": "code",
    "id": "BGmxZA1twIBo"
   },
   "outputs": [],
   "source": [
    "def shift_img(img,direction):\n",
    "    \n",
    "    if direction == \"up\":\n",
    "        img_copy = np.roll(img, -1, axis=0).reshape(784,) # up\n",
    "    elif direction == \"down\":\n",
    "        img_copy = np.roll(img, 1, axis=0).reshape(784,) # down\n",
    "    elif direction == \"right\":    \n",
    "        img_copy = np.roll(img.reshape(28,28), 1, axis=1).reshape(784,) # right\n",
    "    elif direction == \"left\":\n",
    "        img_copy = np.roll(img.reshape(28,28), -1, axis=1).reshape(784,) # left\n",
    "    \n",
    "    return img_copy"
   ]
  },
  {
   "cell_type": "code",
   "execution_count": null,
   "metadata": {
    "colab": {},
    "colab_type": "code",
    "id": "IbQ9w5uowIBs"
   },
   "outputs": [],
   "source": [
    "img_shifted = shift_img(random_digit,\"up\")"
   ]
  },
  {
   "cell_type": "code",
   "execution_count": 47,
   "metadata": {
    "colab": {
     "base_uri": "https://localhost:8080/",
     "height": 248
    },
    "colab_type": "code",
    "id": "PmjVIesfwIBv",
    "outputId": "ab9d0fec-dcc1-4c45-d876-52919f673b3d"
   },
   "outputs": [
    {
     "data": {
      "image/png": "[encoded data removed]",
      "text/plain": [
       "<Figure size 432x288 with 1 Axes>"
      ]
     },
     "metadata": {
      "tags": []
     },
     "output_type": "display_data"
    }
   ],
   "source": [
    "#To plot the img\n",
    "plt.imshow(img_shifted.reshape(28,28),cmap=\"binary\")\n",
    "plt.axis(\"off\")\n",
    "plt.show()"
   ]
  },
  {
   "cell_type": "markdown",
   "metadata": {
    "colab_type": "text",
    "id": "7dump62ewIBy"
   },
   "source": [
    "## Then, for each image in the training set, create four shifted copies (one per direction) and add them to the training set."
   ]
  },
  {
   "cell_type": "code",
   "execution_count": null,
   "metadata": {
    "colab": {},
    "colab_type": "code",
    "id": "qZ1FniajwIB1"
   },
   "outputs": [],
   "source": [
    "#We create two new lists for the storing the new data and new label\n",
    "new_data = []\n",
    "new_label = []\n",
    "\n",
    "for i in np.arange(0,len(x_train)-1): #Creation of a pointer for the iteration on the dataset\n",
    "    label = y_train[i]\n",
    "    \n",
    "    \n",
    "    img_shifted = shift_img(x_train[i],\"up\")\n",
    "    \n",
    "    new_data.append(img_shifted) #Appending the new_data list with the new image created\n",
    "    new_label.append(label) #Appending the new_label list with the new label created\n",
    "    \n",
    "    img_shifted = shift_img(x_train[i],\"down\")\n",
    "    new_data.append(img_shifted)\n",
    "    new_label.append(label)\n",
    "\n",
    "              \n",
    "    img_shifted = shift_img(x_train[i],\"left\")\n",
    "    new_data.append(img_shifted)\n",
    "    new_label.append(label)\n",
    "\n",
    "              \n",
    "    img_shifted = shift_img(x_train[i],\"right\")\n",
    "    new_data.append(img_shifted)\n",
    "    new_label.append(label)\n",
    "    \n",
    "x_train_augmented = list(x_train.copy())\n",
    "x_train_augmented.extend(new_data) #Concatenate all the images\n",
    "del new_data\n",
    "x_train_augmented = np.asarray(x_train_augmented)\n",
    "y_train_augmented = y_train.astype(np.int)\n",
    "new_label = np.asarray(new_label).astype(np.int)\n",
    "y_train_augmented = np.append(y_train_augmented , new_label) #Concatenate all the labels\n",
    "del new_label"
   ]
  },
  {
   "cell_type": "code",
   "execution_count": 49,
   "metadata": {
    "colab": {
     "base_uri": "https://localhost:8080/",
     "height": 52
    },
    "colab_type": "code",
    "id": "EqT7y0m6wIB4",
    "outputId": "6a351d36-3858-477b-d9aa-6a20147f6e41"
   },
   "outputs": [
    {
     "name": "stdout",
     "output_type": "stream",
     "text": [
      "(279996, 784)\n",
      "(279996,)\n"
     ]
    }
   ],
   "source": [
    "print(x_train_augmented.shape)\n",
    "print(y_train_augmented.shape)"
   ]
  },
  {
   "cell_type": "markdown",
   "metadata": {
    "colab_type": "text",
    "id": "j7nrch9jwIB8"
   },
   "source": [
    "## Finally, train your best model on this expanded training set and measure its accuracy on the test set.\n",
    "You should observe that your model performs even better now! This technique of artificially growing the training set is called data augmentation or training set expansion."
   ]
  },
  {
   "cell_type": "code",
   "execution_count": 50,
   "metadata": {
    "colab": {
     "base_uri": "https://localhost:8080/",
     "height": 34
    },
    "colab_type": "code",
    "id": "b3tJFz3owIB9",
    "outputId": "db9ede0b-a8d6-43d5-cfc3-4bbfecffd50f"
   },
   "outputs": [
    {
     "data": {
      "text/plain": [
       "{'Knn__leaf_size': 51, 'Knn__n_neighbors': 10, 'Knn__weights': 'distance'}"
      ]
     },
     "execution_count": 50,
     "metadata": {
      "tags": []
     },
     "output_type": "execute_result"
    }
   ],
   "source": [
    "SVC_KNN.best_params_"
   ]
  },
  {
   "cell_type": "code",
   "execution_count": null,
   "metadata": {
    "colab": {},
    "colab_type": "code",
    "id": "gTjyf_IcwICD"
   },
   "outputs": [],
   "source": [
    "param = SVC_KNN.best_params_\n",
    "param[\"Knn__n_jobs\"] = -1"
   ]
  },
  {
   "cell_type": "code",
   "execution_count": null,
   "metadata": {
    "colab": {},
    "colab_type": "code",
    "id": "ncC13kgSwICF"
   },
   "outputs": [],
   "source": [
    "#Creation of the pipeline with the best parameters\n",
    "best_model = Pipeline([\n",
    "    (\"std\",StandardScaler()),\n",
    "    (\"Trucated\",TruncatedSVD(n_components=100)),\n",
    "    ('Knn',KNeighborsClassifier())\n",
    "                            ])"
   ]
  },
  {
   "cell_type": "code",
   "execution_count": 53,
   "metadata": {
    "colab": {
     "base_uri": "https://localhost:8080/",
     "height": 225
    },
    "colab_type": "code",
    "id": "Lq2nH_u8wICJ",
    "outputId": "5604501d-2850-46ab-9d13-fdfe26baf5b9"
   },
   "outputs": [
    {
     "data": {
      "text/plain": [
       "Pipeline(memory=None,\n",
       "         steps=[('std',\n",
       "                 StandardScaler(copy=True, with_mean=True, with_std=True)),\n",
       "                ('Trucated',\n",
       "                 TruncatedSVD(algorithm='randomized', n_components=100,\n",
       "                              n_iter=5, random_state=None, tol=0.0)),\n",
       "                ('Knn',\n",
       "                 KNeighborsClassifier(algorithm='auto', leaf_size=51,\n",
       "                                      metric='minkowski', metric_params=None,\n",
       "                                      n_jobs=-1, n_neighbors=10, p=2,\n",
       "                                      weights='distance'))],\n",
       "         verbose=False)"
      ]
     },
     "execution_count": 53,
     "metadata": {
      "tags": []
     },
     "output_type": "execute_result"
    }
   ],
   "source": [
    "#Setting the best parameters\n",
    "best_model.set_params(**param)"
   ]
  },
  {
   "cell_type": "code",
   "execution_count": 54,
   "metadata": {
    "colab": {
     "base_uri": "https://localhost:8080/",
     "height": 225
    },
    "colab_type": "code",
    "id": "0J1xIu_kwICO",
    "outputId": "853970b7-4ea9-4657-fae6-e88e346cdc24",
    "scrolled": true
   },
   "outputs": [
    {
     "data": {
      "text/plain": [
       "Pipeline(memory=None,\n",
       "         steps=[('std',\n",
       "                 StandardScaler(copy=True, with_mean=True, with_std=True)),\n",
       "                ('Trucated',\n",
       "                 TruncatedSVD(algorithm='randomized', n_components=100,\n",
       "                              n_iter=5, random_state=None, tol=0.0)),\n",
       "                ('Knn',\n",
       "                 KNeighborsClassifier(algorithm='auto', leaf_size=51,\n",
       "                                      metric='minkowski', metric_params=None,\n",
       "                                      n_jobs=-1, n_neighbors=10, p=2,\n",
       "                                      weights='distance'))],\n",
       "         verbose=False)"
      ]
     },
     "execution_count": 54,
     "metadata": {
      "tags": []
     },
     "output_type": "execute_result"
    }
   ],
   "source": [
    "#We fit the newly created data\n",
    "best_model.fit(x_train_augmented,y_train_augmented)"
   ]
  },
  {
   "cell_type": "code",
   "execution_count": null,
   "metadata": {
    "colab": {},
    "colab_type": "code",
    "id": "4oI3GYUfwICR"
   },
   "outputs": [],
   "source": [
    "#And we predict the results!\n",
    "predicted_y = best_model.predict(x_test)"
   ]
  },
  {
   "cell_type": "code",
   "execution_count": 57,
   "metadata": {
    "colab": {
     "base_uri": "https://localhost:8080/",
     "height": 34
    },
    "colab_type": "code",
    "id": "jd0fd3BfK8ai",
    "outputId": "e5295a77-a75b-41bb-9f46-d5016e43e2a5"
   },
   "outputs": [
    {
     "data": {
      "text/plain": [
       "array([7, 3, 1, ..., 6, 2, 8])"
      ]
     },
     "execution_count": 57,
     "metadata": {
      "tags": []
     },
     "output_type": "execute_result"
    }
   ],
   "source": [
    "predicted_y"
   ]
  },
  {
   "cell_type": "code",
   "execution_count": null,
   "metadata": {
    "colab": {},
    "colab_type": "code",
    "id": "x7HXjkYEIe1x"
   },
   "outputs": [],
   "source": [
    "y_test = y_test.astype(np.int)"
   ]
  },
  {
   "cell_type": "code",
   "execution_count": 62,
   "metadata": {
    "colab": {
     "base_uri": "https://localhost:8080/",
     "height": 799
    },
    "colab_type": "code",
    "id": "o1FJ3rzEK_1b",
    "outputId": "86c5cb4e-9494-4e69-e1cd-6611c6a8872e"
   },
   "outputs": [
    {
     "name": "stdout",
     "output_type": "stream",
     "text": [
      "\n",
      "\n",
      "Accuracy Score : 0.9652142857142857\n",
      "Precision Score : [0.99131064 0.99238095 0.95994278 0.96288515 0.95531136 0.95562599\n",
      " 0.98254545 0.96367375 0.93626374 0.94755747]\n",
      "Recall Score : [0.9764622  0.97020484 0.97956204 0.96355992 0.97897898 0.9648\n",
      " 0.96293656 0.96038251 0.96598639 0.93018336]\n",
      "F1 Score : [0.9838304  0.98116761 0.96965318 0.96322242 0.96700037 0.96019108\n",
      " 0.97264219 0.96202532 0.95089286 0.93879004]\n",
      "\n",
      "\n",
      "AxesSubplot(0.125,0.125;0.62x0.755)\n",
      "              precision    recall  f1-score   support\n",
      "\n",
      "           0       0.99      0.98      0.98      1402\n",
      "           1       0.99      0.97      0.98      1611\n",
      "           2       0.96      0.98      0.97      1370\n",
      "           3       0.96      0.96      0.96      1427\n",
      "           4       0.96      0.98      0.97      1332\n",
      "           5       0.96      0.96      0.96      1250\n",
      "           6       0.98      0.96      0.97      1403\n",
      "           7       0.96      0.96      0.96      1464\n",
      "           8       0.94      0.97      0.95      1323\n",
      "           9       0.95      0.93      0.94      1418\n",
      "\n",
      "    accuracy                           0.97     14000\n",
      "   macro avg       0.96      0.97      0.96     14000\n",
      "weighted avg       0.97      0.97      0.97     14000\n",
      "\n"
     ]
    },
    {
     "data": {
      "image/png": "[encoded data removed]",
      "text/plain": [
       "<Figure size 432x288 with 2 Axes>"
      ]
     },
     "metadata": {
      "tags": []
     },
     "output_type": "display_data"
    }
   ],
   "source": [
    "print_metrics(predicted_y,y_test)"
   ]
  },
  {
   "cell_type": "code",
   "execution_count": null,
   "metadata": {
    "colab": {},
    "colab_type": "code",
    "id": "Qm_xj1Y4LHAR"
   },
   "outputs": [],
   "source": []
  }
 ],
 "metadata": {
  "accelerator": "TPU",
  "colab": {
   "collapsed_sections": [],
   "include_colab_link": true,
   "name": "MNIST dataset Classifier.ipynb",
   "provenance": []
  },
  "creator": "alexandre.casula",
  "customFields": {},
  "kernelspec": {
   "display_name": "Python 3",
   "language": "python",
   "name": "python3"
  },
  "language_info": {
   "codemirror_mode": {
    "name": "ipython",
    "version": 3
   },
   "file_extension": ".py",
   "mimetype": "text/x-python",
   "name": "python",
   "nbconvert_exporter": "python",
   "pygments_lexer": "ipython3",
   "version": "3.7.6"
  },
  "tags": []
 },
 "nbformat": 4,
 "nbformat_minor": 4
}
