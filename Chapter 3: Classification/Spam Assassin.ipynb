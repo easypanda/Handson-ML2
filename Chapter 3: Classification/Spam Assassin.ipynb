{
 "cells": [
  {
   "cell_type": "markdown",
   "metadata": {},
   "source": [
    "## Build a spam classifier (a more challenging exercise)\n",
    "• Download examples of spam and ham from Apache SpamAssassin’s public\n",
    "datasets.\n",
    "\n",
    "• Unzip the datasets and familiarize yourself with the data format.\n",
    "\n",
    "• Split the datasets into a training set and a test set.\n",
    "\n",
    "• Write a data preparation pipeline to convert each email into a feature vector.\n",
    "\n",
    "Your preparation pipeline should transform an email into a (sparse) vector\n",
    "indicating the presence or absence of each possible word. For example, if all\n",
    "emails only ever contain four words, “Hello,” “how,” “are,” “you,” then the email\n",
    "“Hello you Hello Hello you” would be converted into a vector [1, 0, 0, 1]\n",
    "(meaning [“Hello” is present, “how” is absent, “are” is absent, “you” is\n",
    "present]), or [3, 0, 0, 2] if you prefer to count the number of occurrences of\n",
    "each word.\n",
    "\n",
    "• You may want to add hyperparameters to your preparation pipeline to control\n",
    "whether or not to strip off email headers, convert each email to lowercase,\n",
    "remove punctuation, replace all URLs with “URL,” replace all numbers with\n",
    "“NUMBER,” or even perform stemming (i.e., trim off word endings; there are\n",
    "Python libraries available to do this).\n",
    "\n",
    "• Then try out several classifiers and see if you can build a great spam classifier,\n",
    "with both high recall and high precision."
   ]
  },
  {
   "cell_type": "code",
   "execution_count": 1,
   "metadata": {},
   "outputs": [],
   "source": [
    "import numpy as np\n",
    "import pandas as pd\n",
    "\n",
    "import matplotlib.pyplot as plt\n",
    "import seaborn as sns\n",
    "sns.set_style(\"whitegrid\")\n",
    "\n",
    "%matplotlib inline"
   ]
  },
  {
   "cell_type": "code",
   "execution_count": 2,
   "metadata": {},
   "outputs": [],
   "source": [
    "import os\n",
    "import re\n",
    "from pathlib import Path"
   ]
  },
  {
   "cell_type": "code",
   "execution_count": 3,
   "metadata": {},
   "outputs": [],
   "source": [
    "from nltk.corpus import stopwords\n",
    "from nltk.stem import PorterStemmer\n",
    "from nltk.tokenize import sent_tokenize, word_tokenize\n",
    "from sklearn.feature_extraction.text import CountVectorizer\n",
    "from nltk.tokenize import RegexpTokenizer\n",
    "from nltk.stem.wordnet import WordNetLemmatizer"
   ]
  },
  {
   "cell_type": "code",
   "execution_count": 4,
   "metadata": {},
   "outputs": [],
   "source": [
    "from sklearn.model_selection import StratifiedKFold, train_test_split, StratifiedShuffleSplit\n",
    "from sklearn.pipeline import Pipeline\n",
    "from sklearn.preprocessing import base\n",
    "from sklearn.feature_extraction.text import CountVectorizer\n",
    "from sklearn.feature_extraction.text import TfidfVectorizer"
   ]
  },
  {
   "cell_type": "code",
   "execution_count": 5,
   "metadata": {},
   "outputs": [],
   "source": [
    "from sklearn.ensemble import RandomForestClassifier"
   ]
  },
  {
   "cell_type": "code",
   "execution_count": 6,
   "metadata": {},
   "outputs": [],
   "source": [
    "easy_ham = Path(\"./AssassinSpam/easy_ham\")\n",
    "easy_ham_2 = Path(\"./AssassinSpam/easy_ham_2\")\n",
    "hard_ham = Path(\"./AssassinSpam/hard_ham\")\n",
    "spam = Path(\"./AssassinSpam/spam\")\n",
    "spam_2 = Path(\"./AssassinSpam/spam_2\")"
   ]
  },
  {
   "cell_type": "code",
   "execution_count": 7,
   "metadata": {},
   "outputs": [],
   "source": [
    "def creating_df(path):\n",
    "    \n",
    "    list_emails = []\n",
    "    \n",
    "    for files in os.listdir(path):\n",
    "        \n",
    "        file = open(path/files,\"r\",encoding=\"latin-1\")\n",
    "        \n",
    "        list_emails.append(file.read())\n",
    "        \n",
    "        file.close()\n",
    "        \n",
    "    df = pd.DataFrame(list_emails,columns=[\"emails\"])    \n",
    "    \n",
    "    if \"ham\" in path.name:\n",
    "        df[\"spam_ham\"] = \"ham\"\n",
    "    else:\n",
    "        df[\"spam_ham\"] = \"spam\"\n",
    "    \n",
    "    return df"
   ]
  },
  {
   "cell_type": "code",
   "execution_count": 8,
   "metadata": {
    "scrolled": true
   },
   "outputs": [],
   "source": [
    "df_spam = creating_df(spam)\n",
    "df_spam_2 = creating_df(spam_2)\n",
    "df_hard_ham = creating_df(hard_ham)\n",
    "df_easy_ham = creating_df(easy_ham)\n",
    "df_easy_ham_2 = creating_df(easy_ham_2)"
   ]
  },
  {
   "cell_type": "code",
   "execution_count": 9,
   "metadata": {
    "scrolled": true
   },
   "outputs": [],
   "source": [
    "df = pd.concat([df_spam_2,df_spam],sort=False)\n",
    "df = pd.concat([df,df_hard_ham],sort=False)\n",
    "df = pd.concat([df,df_easy_ham_2],sort=False)\n",
    "df = pd.concat([df,df_easy_ham],sort=False)"
   ]
  },
  {
   "cell_type": "code",
   "execution_count": 10,
   "metadata": {
    "scrolled": false
   },
   "outputs": [
    {
     "name": "stdout",
     "output_type": "stream",
     "text": [
      "ham     69.0\n",
      "spam    31.0\n",
      "Name: spam_ham, dtype: float64\n"
     ]
    },
    {
     "data": {
      "text/plain": [
       "<matplotlib.axes._subplots.AxesSubplot at 0x7f4ca50c9080>"
      ]
     },
     "execution_count": 10,
     "metadata": {},
     "output_type": "execute_result"
    },
    {
     "data": {
      "image/png": "[encoded data removed]",
      "text/plain": [
       "<Figure size 432x288 with 1 Axes>"
      ]
     },
     "metadata": {
      "needs_background": "light"
     },
     "output_type": "display_data"
    }
   ],
   "source": [
    "print(np.round(df[\"spam_ham\"].value_counts() / len(df) *100))\n",
    "sns.countplot(x=\"spam_ham\",data=df)"
   ]
  },
  {
   "cell_type": "markdown",
   "metadata": {},
   "source": [
    "So we have a proportion of 31% of Spam and 69% of ham emails."
   ]
  },
  {
   "cell_type": "code",
   "execution_count": 11,
   "metadata": {
    "scrolled": true
   },
   "outputs": [],
   "source": [
    "X = df.drop(columns=[\"spam_ham\"])\n",
    "y = df[\"spam_ham\"]"
   ]
  },
  {
   "cell_type": "code",
   "execution_count": 12,
   "metadata": {},
   "outputs": [],
   "source": [
    "#Split the datasets into a training set and a test set.\n",
    "#X_train,y_train,X_test,y_test = train_test_split(X,y,test_size=0.2, random_state=42)"
   ]
  },
  {
   "cell_type": "code",
   "execution_count": 13,
   "metadata": {
    "scrolled": true
   },
   "outputs": [],
   "source": [
    "split = StratifiedShuffleSplit(n_splits=1,test_size=0.2,random_state=42)\n",
    "for train_index,test_index in split.split(X,y):\n",
    "    strat_train_set = df.iloc[train_index]\n",
    "    strat_test_set = df.iloc[test_index]"
   ]
  },
  {
   "cell_type": "code",
   "execution_count": 14,
   "metadata": {
    "scrolled": true
   },
   "outputs": [
    {
     "data": {
      "text/html": [
       "<div>\n",
       "<style scoped>\n",
       "    .dataframe tbody tr th:only-of-type {\n",
       "        vertical-align: middle;\n",
       "    }\n",
       "\n",
       "    .dataframe tbody tr th {\n",
       "        vertical-align: top;\n",
       "    }\n",
       "\n",
       "    .dataframe thead th {\n",
       "        text-align: right;\n",
       "    }\n",
       "</style>\n",
       "<table border=\"1\" class=\"dataframe\">\n",
       "  <thead>\n",
       "    <tr style=\"text-align: right;\">\n",
       "      <th></th>\n",
       "      <th>emails</th>\n",
       "      <th>spam_ham</th>\n",
       "    </tr>\n",
       "  </thead>\n",
       "  <tbody>\n",
       "    <tr>\n",
       "      <th>311</th>\n",
       "      <td>Return-Path: ler@lerami.lerctr.org\\nDelivery-D...</td>\n",
       "      <td>spam</td>\n",
       "    </tr>\n",
       "    <tr>\n",
       "      <th>297</th>\n",
       "      <td>From ilug-admin@linux.ie  Mon Aug 19 12:30:37 ...</td>\n",
       "      <td>ham</td>\n",
       "    </tr>\n",
       "    <tr>\n",
       "      <th>636</th>\n",
       "      <td>From vjli_Jbfun8575@mail.com  Thu Jul 18 03:08...</td>\n",
       "      <td>spam</td>\n",
       "    </tr>\n",
       "    <tr>\n",
       "      <th>116</th>\n",
       "      <td>From ly9qowv6r47@hotmail.com  Mon Jun 24 17:05...</td>\n",
       "      <td>spam</td>\n",
       "    </tr>\n",
       "    <tr>\n",
       "      <th>1751</th>\n",
       "      <td>From fork-admin@xent.com  Tue Aug 27 11:06:58 ...</td>\n",
       "      <td>ham</td>\n",
       "    </tr>\n",
       "    <tr>\n",
       "      <th>804</th>\n",
       "      <td>From exmh-users-admin@redhat.com  Fri Sep 13 1...</td>\n",
       "      <td>ham</td>\n",
       "    </tr>\n",
       "    <tr>\n",
       "      <th>2068</th>\n",
       "      <td>From rpm-list-admin@freshrpms.net  Mon Sep 30 ...</td>\n",
       "      <td>ham</td>\n",
       "    </tr>\n",
       "    <tr>\n",
       "      <th>1789</th>\n",
       "      <td>Return-Path: guido@python.org\\nDelivery-Date: ...</td>\n",
       "      <td>ham</td>\n",
       "    </tr>\n",
       "    <tr>\n",
       "      <th>1070</th>\n",
       "      <td>From ilug-admin@linux.ie  Tue Aug 13 10:30:49 ...</td>\n",
       "      <td>ham</td>\n",
       "    </tr>\n",
       "    <tr>\n",
       "      <th>425</th>\n",
       "      <td>From paige_455@aol.com  Sun Sep 22 14:13:09 20...</td>\n",
       "      <td>spam</td>\n",
       "    </tr>\n",
       "    <tr>\n",
       "      <th>1083</th>\n",
       "      <td>From fork-admin@xent.com  Thu Jul 25 11:08:29 ...</td>\n",
       "      <td>ham</td>\n",
       "    </tr>\n",
       "    <tr>\n",
       "      <th>1202</th>\n",
       "      <td>From rpm-list-admin@freshrpms.net  Fri Sep 20 ...</td>\n",
       "      <td>ham</td>\n",
       "    </tr>\n",
       "    <tr>\n",
       "      <th>115</th>\n",
       "      <td>From fork-admin@xent.com  Wed Jul 24 03:23:20 ...</td>\n",
       "      <td>ham</td>\n",
       "    </tr>\n",
       "    <tr>\n",
       "      <th>1586</th>\n",
       "      <td>From rssfeeds@jmason.org  Thu Oct  3 12:24:39 ...</td>\n",
       "      <td>ham</td>\n",
       "    </tr>\n",
       "    <tr>\n",
       "      <th>541</th>\n",
       "      <td>Received: from hq.pro-ns.net (localhost [127.0...</td>\n",
       "      <td>spam</td>\n",
       "    </tr>\n",
       "    <tr>\n",
       "      <th>306</th>\n",
       "      <td>From bert_327@hotmail.com  Thu Sep 26 11:30:26...</td>\n",
       "      <td>spam</td>\n",
       "    </tr>\n",
       "    <tr>\n",
       "      <th>851</th>\n",
       "      <td>From boogwie@hawaiian.net  Sat Jul 28 15:05:59...</td>\n",
       "      <td>spam</td>\n",
       "    </tr>\n",
       "    <tr>\n",
       "      <th>29</th>\n",
       "      <td>From fork-admin@xent.com  Mon Aug 12 11:09:56 ...</td>\n",
       "      <td>ham</td>\n",
       "    </tr>\n",
       "    <tr>\n",
       "      <th>743</th>\n",
       "      <td>From ilug-admin@linux.ie  Mon Jul 22 18:12:16 ...</td>\n",
       "      <td>spam</td>\n",
       "    </tr>\n",
       "    <tr>\n",
       "      <th>366</th>\n",
       "      <td>From vulnwatch-return-400-jm=jmason.org@vulnwa...</td>\n",
       "      <td>ham</td>\n",
       "    </tr>\n",
       "    <tr>\n",
       "      <th>527</th>\n",
       "      <td>From fork-admin@xent.com  Tue Sep 24 10:49:36 ...</td>\n",
       "      <td>ham</td>\n",
       "    </tr>\n",
       "    <tr>\n",
       "      <th>22</th>\n",
       "      <td>From kingofspan2@hotmail.com  Mon Jun 24 17:05...</td>\n",
       "      <td>spam</td>\n",
       "    </tr>\n",
       "    <tr>\n",
       "      <th>2485</th>\n",
       "      <td>From rssfeeds@jmason.org  Thu Sep 26 11:03:28 ...</td>\n",
       "      <td>ham</td>\n",
       "    </tr>\n",
       "    <tr>\n",
       "      <th>427</th>\n",
       "      <td>From rpm-list-admin@freshrpms.net  Mon Jul 22 ...</td>\n",
       "      <td>ham</td>\n",
       "    </tr>\n",
       "    <tr>\n",
       "      <th>1043</th>\n",
       "      <td>From fork-admin@xent.com  Mon Jul 22 22:24:23 ...</td>\n",
       "      <td>ham</td>\n",
       "    </tr>\n",
       "    <tr>\n",
       "      <th>1237</th>\n",
       "      <td>From fork-admin@xent.com  Thu Aug 22 10:47:04 ...</td>\n",
       "      <td>ham</td>\n",
       "    </tr>\n",
       "    <tr>\n",
       "      <th>335</th>\n",
       "      <td>From sandy_rusher7@yahoo.co.uk  Mon Jun 24 17:...</td>\n",
       "      <td>spam</td>\n",
       "    </tr>\n",
       "    <tr>\n",
       "      <th>38</th>\n",
       "      <td>From fork-admin@xent.com  Fri Jul 19 03:09:29 ...</td>\n",
       "      <td>spam</td>\n",
       "    </tr>\n",
       "    <tr>\n",
       "      <th>1693</th>\n",
       "      <td>From fork-admin@xent.com  Wed Oct  9 10:55:09 ...</td>\n",
       "      <td>ham</td>\n",
       "    </tr>\n",
       "    <tr>\n",
       "      <th>420</th>\n",
       "      <td>From razor-users-admin@lists.sourceforge.net  ...</td>\n",
       "      <td>ham</td>\n",
       "    </tr>\n",
       "    <tr>\n",
       "      <th>...</th>\n",
       "      <td>...</td>\n",
       "      <td>...</td>\n",
       "    </tr>\n",
       "    <tr>\n",
       "      <th>520</th>\n",
       "      <td>From rpm-list-admin@freshrpms.net  Tue Aug  6 ...</td>\n",
       "      <td>ham</td>\n",
       "    </tr>\n",
       "    <tr>\n",
       "      <th>1180</th>\n",
       "      <td>From tn@Pitching.com  Wed Jul 17 20:20:11 2002...</td>\n",
       "      <td>spam</td>\n",
       "    </tr>\n",
       "    <tr>\n",
       "      <th>861</th>\n",
       "      <td>From rssfeeds@jmason.org  Tue Oct  8 10:56:07 ...</td>\n",
       "      <td>ham</td>\n",
       "    </tr>\n",
       "    <tr>\n",
       "      <th>1236</th>\n",
       "      <td>From ilug-admin@linux.ie  Mon Aug 12 11:07:03 ...</td>\n",
       "      <td>ham</td>\n",
       "    </tr>\n",
       "    <tr>\n",
       "      <th>2384</th>\n",
       "      <td>From spamassassin-talk-admin@lists.sourceforge...</td>\n",
       "      <td>ham</td>\n",
       "    </tr>\n",
       "    <tr>\n",
       "      <th>154</th>\n",
       "      <td>From sitescooper-talk-admin@lists.sourceforge....</td>\n",
       "      <td>spam</td>\n",
       "    </tr>\n",
       "    <tr>\n",
       "      <th>1284</th>\n",
       "      <td>From fork-admin@xent.com  Fri Jul 26 07:31:07 ...</td>\n",
       "      <td>ham</td>\n",
       "    </tr>\n",
       "    <tr>\n",
       "      <th>455</th>\n",
       "      <td>From babegirl2u473666p42@z.com  Mon Jun 24 17:...</td>\n",
       "      <td>spam</td>\n",
       "    </tr>\n",
       "    <tr>\n",
       "      <th>309</th>\n",
       "      <td>From social-admin@linux.ie  Tue Sep 24 23:33:2...</td>\n",
       "      <td>spam</td>\n",
       "    </tr>\n",
       "    <tr>\n",
       "      <th>2337</th>\n",
       "      <td>From rpm-list-admin@freshrpms.net  Tue Oct  1 ...</td>\n",
       "      <td>ham</td>\n",
       "    </tr>\n",
       "    <tr>\n",
       "      <th>957</th>\n",
       "      <td>From rpm-list-admin@freshrpms.net  Sat Oct  5 ...</td>\n",
       "      <td>ham</td>\n",
       "    </tr>\n",
       "    <tr>\n",
       "      <th>827</th>\n",
       "      <td>From rpm-list-admin@freshrpms.net  Thu Jul 25 ...</td>\n",
       "      <td>ham</td>\n",
       "    </tr>\n",
       "    <tr>\n",
       "      <th>586</th>\n",
       "      <td>From fork-admin@xent.com  Sat Sep  7 21:53:57 ...</td>\n",
       "      <td>ham</td>\n",
       "    </tr>\n",
       "    <tr>\n",
       "      <th>1327</th>\n",
       "      <td>From ruler888@yahoo.com  Mon Jun 24 17:03:13 2...</td>\n",
       "      <td>spam</td>\n",
       "    </tr>\n",
       "    <tr>\n",
       "      <th>857</th>\n",
       "      <td>From razor-users-admin@lists.sourceforge.net  ...</td>\n",
       "      <td>ham</td>\n",
       "    </tr>\n",
       "    <tr>\n",
       "      <th>99</th>\n",
       "      <td>From km523876@caramail.com  Thu Sep  5 11:46:2...</td>\n",
       "      <td>spam</td>\n",
       "    </tr>\n",
       "    <tr>\n",
       "      <th>286</th>\n",
       "      <td>From gintare@netzero.net  Mon Jun 24 17:44:23 ...</td>\n",
       "      <td>spam</td>\n",
       "    </tr>\n",
       "    <tr>\n",
       "      <th>854</th>\n",
       "      <td>From sentto-2242572-60172-1038798260-jm=jmason...</td>\n",
       "      <td>ham</td>\n",
       "    </tr>\n",
       "    <tr>\n",
       "      <th>986</th>\n",
       "      <td>From webmaster2fg7@address.com  Mon Jul 29 11:...</td>\n",
       "      <td>spam</td>\n",
       "    </tr>\n",
       "    <tr>\n",
       "      <th>559</th>\n",
       "      <td>From exmh-users-admin@redhat.com  Mon Sep 23 1...</td>\n",
       "      <td>ham</td>\n",
       "    </tr>\n",
       "    <tr>\n",
       "      <th>655</th>\n",
       "      <td>From fork-admin@xent.com  Mon Aug 26 18:01:15 ...</td>\n",
       "      <td>ham</td>\n",
       "    </tr>\n",
       "    <tr>\n",
       "      <th>397</th>\n",
       "      <td>From jrd110@hotmail.com  Mon Sep  2 12:16:04 2...</td>\n",
       "      <td>spam</td>\n",
       "    </tr>\n",
       "    <tr>\n",
       "      <th>853</th>\n",
       "      <td>From jdlockhart@yahoo.com  Mon Jun 24 17:02:58...</td>\n",
       "      <td>spam</td>\n",
       "    </tr>\n",
       "    <tr>\n",
       "      <th>1273</th>\n",
       "      <td>From bruc9629368@yahoo.com  Wed Aug  7 17:27:4...</td>\n",
       "      <td>spam</td>\n",
       "    </tr>\n",
       "    <tr>\n",
       "      <th>580</th>\n",
       "      <td>From ilug-admin@linux.ie  Thu Aug  1 18:02:33 ...</td>\n",
       "      <td>ham</td>\n",
       "    </tr>\n",
       "    <tr>\n",
       "      <th>1119</th>\n",
       "      <td>From fork-admin@xent.com  Mon Aug 12 11:10:08 ...</td>\n",
       "      <td>ham</td>\n",
       "    </tr>\n",
       "    <tr>\n",
       "      <th>1072</th>\n",
       "      <td>From webdev-admin@linux.ie  Tue Aug 20 11:51:5...</td>\n",
       "      <td>ham</td>\n",
       "    </tr>\n",
       "    <tr>\n",
       "      <th>1128</th>\n",
       "      <td>Return-Path: &lt;root@mail9.aweber.com&gt;\\nReceived...</td>\n",
       "      <td>spam</td>\n",
       "    </tr>\n",
       "    <tr>\n",
       "      <th>114</th>\n",
       "      <td>From fork-admin@xent.com  Tue Jul 23 23:00:51 ...</td>\n",
       "      <td>ham</td>\n",
       "    </tr>\n",
       "    <tr>\n",
       "      <th>682</th>\n",
       "      <td>From investmentalert@freenet.co.uk  Mon Jun 24...</td>\n",
       "      <td>spam</td>\n",
       "    </tr>\n",
       "  </tbody>\n",
       "</table>\n",
       "<p>4840 rows × 2 columns</p>\n",
       "</div>"
      ],
      "text/plain": [
       "                                                 emails spam_ham\n",
       "311   Return-Path: ler@lerami.lerctr.org\\nDelivery-D...     spam\n",
       "297   From ilug-admin@linux.ie  Mon Aug 19 12:30:37 ...      ham\n",
       "636   From vjli_Jbfun8575@mail.com  Thu Jul 18 03:08...     spam\n",
       "116   From ly9qowv6r47@hotmail.com  Mon Jun 24 17:05...     spam\n",
       "1751  From fork-admin@xent.com  Tue Aug 27 11:06:58 ...      ham\n",
       "804   From exmh-users-admin@redhat.com  Fri Sep 13 1...      ham\n",
       "2068  From rpm-list-admin@freshrpms.net  Mon Sep 30 ...      ham\n",
       "1789  Return-Path: guido@python.org\\nDelivery-Date: ...      ham\n",
       "1070  From ilug-admin@linux.ie  Tue Aug 13 10:30:49 ...      ham\n",
       "425   From paige_455@aol.com  Sun Sep 22 14:13:09 20...     spam\n",
       "1083  From fork-admin@xent.com  Thu Jul 25 11:08:29 ...      ham\n",
       "1202  From rpm-list-admin@freshrpms.net  Fri Sep 20 ...      ham\n",
       "115   From fork-admin@xent.com  Wed Jul 24 03:23:20 ...      ham\n",
       "1586  From rssfeeds@jmason.org  Thu Oct  3 12:24:39 ...      ham\n",
       "541   Received: from hq.pro-ns.net (localhost [127.0...     spam\n",
       "306   From bert_327@hotmail.com  Thu Sep 26 11:30:26...     spam\n",
       "851   From boogwie@hawaiian.net  Sat Jul 28 15:05:59...     spam\n",
       "29    From fork-admin@xent.com  Mon Aug 12 11:09:56 ...      ham\n",
       "743   From ilug-admin@linux.ie  Mon Jul 22 18:12:16 ...     spam\n",
       "366   From vulnwatch-return-400-jm=jmason.org@vulnwa...      ham\n",
       "527   From fork-admin@xent.com  Tue Sep 24 10:49:36 ...      ham\n",
       "22    From kingofspan2@hotmail.com  Mon Jun 24 17:05...     spam\n",
       "2485  From rssfeeds@jmason.org  Thu Sep 26 11:03:28 ...      ham\n",
       "427   From rpm-list-admin@freshrpms.net  Mon Jul 22 ...      ham\n",
       "1043  From fork-admin@xent.com  Mon Jul 22 22:24:23 ...      ham\n",
       "1237  From fork-admin@xent.com  Thu Aug 22 10:47:04 ...      ham\n",
       "335   From sandy_rusher7@yahoo.co.uk  Mon Jun 24 17:...     spam\n",
       "38    From fork-admin@xent.com  Fri Jul 19 03:09:29 ...     spam\n",
       "1693  From fork-admin@xent.com  Wed Oct  9 10:55:09 ...      ham\n",
       "420   From razor-users-admin@lists.sourceforge.net  ...      ham\n",
       "...                                                 ...      ...\n",
       "520   From rpm-list-admin@freshrpms.net  Tue Aug  6 ...      ham\n",
       "1180  From tn@Pitching.com  Wed Jul 17 20:20:11 2002...     spam\n",
       "861   From rssfeeds@jmason.org  Tue Oct  8 10:56:07 ...      ham\n",
       "1236  From ilug-admin@linux.ie  Mon Aug 12 11:07:03 ...      ham\n",
       "2384  From spamassassin-talk-admin@lists.sourceforge...      ham\n",
       "154   From sitescooper-talk-admin@lists.sourceforge....     spam\n",
       "1284  From fork-admin@xent.com  Fri Jul 26 07:31:07 ...      ham\n",
       "455   From babegirl2u473666p42@z.com  Mon Jun 24 17:...     spam\n",
       "309   From social-admin@linux.ie  Tue Sep 24 23:33:2...     spam\n",
       "2337  From rpm-list-admin@freshrpms.net  Tue Oct  1 ...      ham\n",
       "957   From rpm-list-admin@freshrpms.net  Sat Oct  5 ...      ham\n",
       "827   From rpm-list-admin@freshrpms.net  Thu Jul 25 ...      ham\n",
       "586   From fork-admin@xent.com  Sat Sep  7 21:53:57 ...      ham\n",
       "1327  From ruler888@yahoo.com  Mon Jun 24 17:03:13 2...     spam\n",
       "857   From razor-users-admin@lists.sourceforge.net  ...      ham\n",
       "99    From km523876@caramail.com  Thu Sep  5 11:46:2...     spam\n",
       "286   From gintare@netzero.net  Mon Jun 24 17:44:23 ...     spam\n",
       "854   From sentto-2242572-60172-1038798260-jm=jmason...      ham\n",
       "986   From webmaster2fg7@address.com  Mon Jul 29 11:...     spam\n",
       "559   From exmh-users-admin@redhat.com  Mon Sep 23 1...      ham\n",
       "655   From fork-admin@xent.com  Mon Aug 26 18:01:15 ...      ham\n",
       "397   From jrd110@hotmail.com  Mon Sep  2 12:16:04 2...     spam\n",
       "853   From jdlockhart@yahoo.com  Mon Jun 24 17:02:58...     spam\n",
       "1273  From bruc9629368@yahoo.com  Wed Aug  7 17:27:4...     spam\n",
       "580   From ilug-admin@linux.ie  Thu Aug  1 18:02:33 ...      ham\n",
       "1119  From fork-admin@xent.com  Mon Aug 12 11:10:08 ...      ham\n",
       "1072  From webdev-admin@linux.ie  Tue Aug 20 11:51:5...      ham\n",
       "1128  Return-Path: <root@mail9.aweber.com>\\nReceived...     spam\n",
       "114   From fork-admin@xent.com  Tue Jul 23 23:00:51 ...      ham\n",
       "682   From investmentalert@freenet.co.uk  Mon Jun 24...     spam\n",
       "\n",
       "[4840 rows x 2 columns]"
      ]
     },
     "execution_count": 14,
     "metadata": {},
     "output_type": "execute_result"
    }
   ],
   "source": [
    "strat_train_set"
   ]
  },
  {
   "cell_type": "code",
   "execution_count": null,
   "metadata": {},
   "outputs": [],
   "source": [
    "token = RegexpTokenizer(r'[a-zA-Z0-9]+')"
   ]
  },
  {
   "cell_type": "code",
   "execution_count": null,
   "metadata": {},
   "outputs": [],
   "source": [
    "nlp_pipeline =  Pipeline([\n",
    "                #remove unwanted elements from out data like symbols and numbers\n",
    "                (\"countvectorizer\",CountVectorizer(lowercase=True,stop_words='english',ngram_range = (1,1),tokenizer = token.tokenize))\n",
    "                ])"
   ]
  },
  {
   "cell_type": "code",
   "execution_count": null,
   "metadata": {},
   "outputs": [],
   "source": [
    "Feature_selection = Pipeline([\n",
    "    ('Rf',RandomForestClassifier(n_jobs=-1,random_state=42))\n",
    "                            ])"
   ]
  },
  {
   "cell_type": "code",
   "execution_count": null,
   "metadata": {},
   "outputs": [],
   "source": [
    "model_pipeline = Pipeline([\n",
    "    ('transformation_pipeline',nlp_pipeline),\n",
    "    ('Feature_selection',Feature_selection)])"
   ]
  },
  {
   "cell_type": "code",
   "execution_count": null,
   "metadata": {},
   "outputs": [],
   "source": [
    "#Preparing fata for the first machine learning algorithm\n",
    "\n",
    "spam_ham = strat_train_set.drop(\"spam_ham\",axis=1)\n",
    "spam_ham_labels = strat_train_set[\"spam_ham\"].copy()"
   ]
  },
  {
   "cell_type": "code",
   "execution_count": null,
   "metadata": {
    "scrolled": true
   },
   "outputs": [],
   "source": [
    "strat_train_set_prepared = nlp_pipeline.fit_transform(spam_ham[\"emails\"])"
   ]
  },
  {
   "cell_type": "code",
   "execution_count": null,
   "metadata": {},
   "outputs": [],
   "source": [
    "from sklearn.model_selection import cross_val_score"
   ]
  },
  {
   "cell_type": "code",
   "execution_count": null,
   "metadata": {
    "scrolled": true
   },
   "outputs": [],
   "source": [
    "score = cross_val_score(Feature_selection,strat_train_set_prepared,spam_ham_labels,cv=3,scoring=\"accuracy\")"
   ]
  },
  {
   "cell_type": "code",
   "execution_count": null,
   "metadata": {},
   "outputs": [],
   "source": [
    "np.mean(score)"
   ]
  },
  {
   "cell_type": "code",
   "execution_count": null,
   "metadata": {},
   "outputs": [],
   "source": [
    "#Preparing fata for the first machine learning algorithm\n",
    "\n",
    "spam_ham_test = strat_train_set.drop(\"spam_ham\",axis=1)\n",
    "spam_ham_labels_test = strat_train_set[\"spam_ham\"].copy()"
   ]
  },
  {
   "cell_type": "code",
   "execution_count": null,
   "metadata": {
    "scrolled": true
   },
   "outputs": [],
   "source": [
    "strat_test_set_prepared = nlp_pipeline.fit_transform(spam_ham_test[\"emails\"])"
   ]
  },
  {
   "cell_type": "code",
   "execution_count": null,
   "metadata": {},
   "outputs": [],
   "source": [
    "Feature_selection.fit(strat_train_set_prepared,spam_ham_labels)"
   ]
  },
  {
   "cell_type": "code",
   "execution_count": null,
   "metadata": {
    "scrolled": true
   },
   "outputs": [],
   "source": [
    "y_predict = Feature_selection.predict(strat_test_set_prepared)\n",
    "spam_ham_labels_test = [1 if x ==\"spam\" else 0 for x in spam_ham_labels_test]\n",
    "y_predict = [1 if x ==\"spam\" else 0 for x in y_predict]"
   ]
  },
  {
   "cell_type": "code",
   "execution_count": null,
   "metadata": {},
   "outputs": [],
   "source": [
    "from sklearn.metrics import roc_auc_score,roc_curve,accuracy_score,\\\n",
    "                            precision_score,precision_recall_curve,\\\n",
    "                            confusion_matrix,recall_score,\\\n",
    "                            classification_report,f1_score\n",
    "\n",
    "#Using the Sklearn visualization API...\n",
    "from scikitplot.metrics import plot_confusion_matrix,plot_precision_recall,plot_roc_curve"
   ]
  },
  {
   "cell_type": "code",
   "execution_count": null,
   "metadata": {},
   "outputs": [],
   "source": [
    "def plot_roc_curve(fpr,tpr,label=None):\n",
    "    plt.figure(figsize=(12,8))\n",
    "    plt.plot(fpr,tpr,linewidth = 2,label=label)\n",
    "    plt.plot([0,1],[0,1],\"k--\") #Dashed diagonal\n",
    "    plt.ylabel(\"True Positive Rate (FPR) / Recall / Sensitivity\")\n",
    "    plt.xlabel(\"True Negative Rate (FPR) /1- Specificity\")\n",
    "    plt.legend()\n",
    "    \n",
    "def print_metrics(predicted_y,y_test):\n",
    "    \n",
    "    fpr , tpr, thresholds = roc_curve(predicted_y,y_test)\n",
    "    \n",
    "    plot_roc_curve(fpr , tpr)\n",
    "    plt.show()\n",
    "    \n",
    "    print(f\"The area under the roc curve is {roc_auc_score(predicted_y,y_test)}\")\n",
    "    \n",
    "   \n",
    "    print(\"\\n\")\n",
    "    print(f\"Accuracy Score : {(accuracy_score(predicted_y,y_test))}\")\n",
    "    print(f\"Precision Score : {(precision_score(predicted_y,y_test))}\")\n",
    "    print(f\"Recall Score : {(recall_score(predicted_y,y_test))}\")\n",
    "    print(f\"F1 Score : {(f1_score(predicted_y,y_test))}\")\n",
    "    print(\"\\n\")\n",
    "    print(plot_confusion_matrix(predicted_y,y_test))\n",
    "    print(f\"{classification_report(predicted_y,y_test)}\")"
   ]
  },
  {
   "cell_type": "code",
   "execution_count": null,
   "metadata": {
    "scrolled": false
   },
   "outputs": [],
   "source": [
    "print_metrics(y_predict,spam_ham_labels_test)"
   ]
  }
 ],
 "metadata": {
  "kernelspec": {
   "display_name": "Python 3",
   "language": "python",
   "name": "python3"
  },
  "language_info": {
   "codemirror_mode": {
    "name": "ipython",
    "version": 3
   },
   "file_extension": ".py",
   "mimetype": "text/x-python",
   "name": "python",
   "nbconvert_exporter": "python",
   "pygments_lexer": "ipython3",
   "version": "3.7.3"
  }
 },
 "nbformat": 4,
 "nbformat_minor": 2
}
