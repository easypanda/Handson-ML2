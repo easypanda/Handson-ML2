{
 "cells": [
  {
   "cell_type": "markdown",
   "metadata": {},
   "source": [
    "1. If you have trained five different models on the exact same training data, and\n",
    "they all achieve 95% precision, is there any chance that you can combine these\n",
    "models to get better results? If so, how? If not, why?\n",
    "2. What is the difference between hard and soft voting classifiers?\n",
    "202 | Chapter 7: Ensemble Learning and Random Forests\n",
    "Download from finelybook www.finelybook.com\n",
    "3. Is it possible to speed up training of a bagging ensemble by distributing it across\n",
    "multiple servers? What about pasting ensembles, boosting ensembles, random\n",
    "forests, or stacking ensembles?\n",
    "4. What is the benefit of out-of-bag evaluation?\n",
    "5. What makes Extra-Trees more random than regular Random Forests? How can\n",
    "this extra randomness help? Are Extra-Trees slower or faster than regular Ran‐\n",
    "dom Forests?\n",
    "6. If your AdaBoost ensemble underfits the training data, what hyperparameters\n",
    "should you tweak and how?\n",
    "7. If your Gradient Boosting ensemble overfits the training set, should you increase\n",
    "or decrease the learning rate?\n",
    "8. Load the MNIST data (introduced in Chapter 3), and split it into a training set, a\n",
    "validation set, and a test set (e.g., use the first 40,000 instances for training, the\n",
    "next 10,000 for validation, and the last 10,000 for testing). Then train various\n",
    "classifiers, such as a Random Forest classifier, an Extra-Trees classifier, and an\n",
    "SVM. Next, try to combine them into an ensemble that outperforms them all on\n",
    "the validation set, using a soft or hard voting classifier. Once you have found one,\n",
    "try it on the test set. How much better does it perform compared to the individ‐\n",
    "ual classifiers?\n",
    "9. Run the individual classifiers from the previous exercise to make predictions on\n",
    "the validation set, and create a new training set with the resulting predictions:\n",
    "each training instance is a vector containing the set of predictions from all your\n",
    "classifiers for an image, and the target is the image’s class. Congratulations, you\n",
    "have just trained a blender, and together with the classifiers they form a stacking\n",
    "ensemble! Now let’s evaluate the ensemble on the test set. For each image in the\n",
    "test set, make predictions with all your classifiers, then feed the predictions to the\n",
    "blender to get the ensemble’s predictions. How does it compare to the voting clas‐\n",
    "sifier you trained earlier?\n",
    "Solutions to these exercises are available in Appendix A."
   ]
  },
  {
   "cell_type": "code",
   "execution_count": null,
   "metadata": {},
   "outputs": [],
   "source": []
  }
 ],
 "metadata": {
  "kernelspec": {
   "display_name": "Python 3",
   "language": "python",
   "name": "python3"
  },
  "language_info": {
   "codemirror_mode": {
    "name": "ipython",
    "version": 3
   },
   "file_extension": ".py",
   "mimetype": "text/x-python",
   "name": "python",
   "nbconvert_exporter": "python",
   "pygments_lexer": "ipython3",
   "version": "3.7.6"
  },
  "toc": {
   "base_numbering": 1,
   "nav_menu": {},
   "number_sections": true,
   "sideBar": true,
   "skip_h1_title": false,
   "title_cell": "Table of Contents",
   "title_sidebar": "Contents",
   "toc_cell": false,
   "toc_position": {},
   "toc_section_display": true,
   "toc_window_display": false
  },
  "varInspector": {
   "cols": {
    "lenName": 16,
    "lenType": 16,
    "lenVar": 40
   },
   "kernels_config": {
    "python": {
     "delete_cmd_postfix": "",
     "delete_cmd_prefix": "del ",
     "library": "var_list.py",
     "varRefreshCmd": "print(var_dic_list())"
    },
    "r": {
     "delete_cmd_postfix": ") ",
     "delete_cmd_prefix": "rm(",
     "library": "var_list.r",
     "varRefreshCmd": "cat(var_dic_list()) "
    }
   },
   "types_to_exclude": [
    "module",
    "function",
    "builtin_function_or_method",
    "instance",
    "_Feature"
   ],
   "window_display": false
  }
 },
 "nbformat": 4,
 "nbformat_minor": 4
}
